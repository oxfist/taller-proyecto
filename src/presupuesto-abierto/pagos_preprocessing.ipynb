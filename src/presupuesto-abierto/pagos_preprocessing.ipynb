{
 "cells": [
  {
   "cell_type": "code",
   "execution_count": null,
   "metadata": {},
   "outputs": [],
   "source": [
    "%pip install pandas"
   ]
  },
  {
   "cell_type": "code",
   "execution_count": null,
   "metadata": {},
   "outputs": [],
   "source": [
    "%run load_pagos.py"
   ]
  },
  {
   "cell_type": "code",
   "execution_count": null,
   "metadata": {},
   "outputs": [],
   "source": [
    "df.info()"
   ]
  },
  {
   "cell_type": "code",
   "execution_count": null,
   "metadata": {},
   "outputs": [],
   "source": [
    "df.head()"
   ]
  },
  {
   "cell_type": "code",
   "execution_count": null,
   "metadata": {},
   "outputs": [],
   "source": [
    "df = df[\n",
    "    [\n",
    "        \"año\",\n",
    "        \"partida\",\n",
    "        \"nombre_partida\",\n",
    "        \"capitulo\",\n",
    "        \"nombre_capitulo\",\n",
    "        \"area\",\n",
    "        \"nombre_area\",\n",
    "        \"subtitulo\",\n",
    "        \"nombre_subtitulo\",\n",
    "        \"devengo\",\n",
    "    ]\n",
    "]"
   ]
  },
  {
   "cell_type": "code",
   "execution_count": null,
   "metadata": {},
   "outputs": [],
   "source": [
    "grouped_df = df.groupby(\n",
    "    [\n",
    "        \"año\",\n",
    "        \"capitulo\",\n",
    "        \"nombre_capitulo\",\n",
    "        \"area\",\n",
    "        \"nombre_area\",\n",
    "        \"subtitulo\",\n",
    "        \"nombre_subtitulo\",\n",
    "    ],\n",
    "    sort=False,\n",
    ")\n",
    "\n",
    "pagos_anio_servicio_df = (\n",
    "    grouped_df[[\"devengo\"]]\n",
    "    .agg(\"sum\")\n",
    "    .sort_values(by=[\"año\", \"capitulo\", \"area\", \"subtitulo\"], ascending=True)\n",
    "    .reset_index()\n",
    ")\n",
    "pagos_anio_servicio_df"
   ]
  },
  {
   "cell_type": "code",
   "execution_count": null,
   "metadata": {},
   "outputs": [],
   "source": [
    "servicios = pagos_anio_servicio_df[\n",
    "    pagos_anio_servicio_df[\"nombre_capitulo\"].str.contains(r\"SERVICIO DE\", regex=True)\n",
    "][\"nombre_capitulo\"].unique()\n",
    "\n",
    "servicios.sort()\n",
    "servicios"
   ]
  },
  {
   "cell_type": "code",
   "execution_count": null,
   "metadata": {},
   "outputs": [],
   "source": [
    "pagos_anio_servicio_df[\n",
    "    pagos_anio_servicio_df[\"nombre_capitulo\"].str.contains(r\"SERVICIO DE\", regex=True)\n",
    "].to_csv(\"../../datasets/pagos_salud_chile_2018-2024.csv\", index=False)"
   ]
  }
 ],
 "metadata": {
  "kernelspec": {
   "display_name": "Python 3",
   "language": "python",
   "name": "python3"
  },
  "language_info": {
   "codemirror_mode": {
    "name": "ipython",
    "version": 3
   },
   "file_extension": ".py",
   "mimetype": "text/x-python",
   "name": "python",
   "nbconvert_exporter": "python",
   "pygments_lexer": "ipython3",
   "version": "3.12.2"
  }
 },
 "nbformat": 4,
 "nbformat_minor": 2
}
