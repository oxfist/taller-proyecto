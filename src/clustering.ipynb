{
 "cells": [
  {
   "cell_type": "code",
   "execution_count": null,
   "metadata": {},
   "outputs": [],
   "source": [
    "%pip install pandas scikit-learn seaborn plotly"
   ]
  },
  {
   "cell_type": "code",
   "execution_count": null,
   "metadata": {},
   "outputs": [],
   "source": [
    "import pandas as pd\n",
    "\n",
    "df = pd.read_csv(\"../datasets/analisis_presupuestario_salud.csv\", delimiter=\",\")\n",
    "df"
   ]
  },
  {
   "cell_type": "code",
   "execution_count": null,
   "metadata": {},
   "outputs": [],
   "source": [
    "# import seaborn as sns\n",
    "\n",
    "# sns.pairplot(df)"
   ]
  },
  {
   "cell_type": "code",
   "execution_count": null,
   "metadata": {},
   "outputs": [],
   "source": [
    "# df.filter(like=\"\").columns"
   ]
  },
  {
   "cell_type": "code",
   "execution_count": null,
   "metadata": {},
   "outputs": [],
   "source": [
    "YEARS = range(2018, 2024)\n",
    "\n",
    "EXCLUDED_VARIABLES = [\"capitulo\", \"nombre_capitulo\"]\n",
    "\n",
    "\n",
    "def generate_scatter_matrix(df):\n",
    "    analysis_variables = list(filter(lambda x: x not in EXCLUDED_VARIABLES, df.columns))\n",
    "\n",
    "    for year in YEARS:\n",
    "        plot = sns.pairplot(\n",
    "            df[df[\"año\"] == year][analysis_variables],\n",
    "            kind=\"reg\",\n",
    "            diag_kind=\"kde\",\n",
    "            plot_kws={\"line_kws\": {\"color\": \"red\"}},\n",
    "            diag_kws={\"color\": \"red\"},\n",
    "        )\n",
    "\n",
    "        for ax in plot.axes.flatten():\n",
    "            ax.set_xlabel(ax.get_xlabel(), rotation=45)\n",
    "            ax.set_ylabel(ax.get_ylabel(), rotation=45)\n",
    "            ax.yaxis.get_label().set_horizontalalignment(\"right\")\n",
    "\n",
    "        plot.figure.suptitle(f\"AÑO {year}\", y=1.01, fontsize=16)\n",
    "        plot.savefig(f\"../plots/clustering/{year}.png\", dpi=65)\n",
    "\n",
    "\n",
    "# generate_scatter_matrix(df)"
   ]
  },
  {
   "cell_type": "code",
   "execution_count": null,
   "metadata": {},
   "outputs": [],
   "source": [
    "import plotly.express as px\n",
    "\n",
    "EXCLUDED_VARIABLES = [\"capitulo\", \"nombre_capitulo\"]\n",
    "\n",
    "\n",
    "def generate_corr_matrices(df):\n",
    "    analysis_variables = list(filter(lambda x: x not in EXCLUDED_VARIABLES, df.columns))\n",
    "\n",
    "    for year in YEARS:\n",
    "        corr_matrix = df[df[\"año\"] == year][analysis_variables].corr()\n",
    "\n",
    "        fig = px.imshow(\n",
    "            corr_matrix,\n",
    "            text_auto=True,\n",
    "            color_continuous_scale=\"Plasma_r\",\n",
    "            aspect=\"auto\",\n",
    "            labels=dict(color=\"Correlación\"),\n",
    "            title=year,\n",
    "        )\n",
    "        fig.update_layout(height=1500, width=2500)\n",
    "        fig.update_xaxes(tickangle=-45)\n",
    "        fig.update_yaxes(tickangle=-45)\n",
    "\n",
    "        fig.write_image(f\"../plots/clustering/corr_matrix/{year}.png\", scale=3)\n",
    "\n",
    "\n",
    "# generate_corr_matrices(df)"
   ]
  },
  {
   "cell_type": "code",
   "execution_count": null,
   "metadata": {},
   "outputs": [],
   "source": [
    "df.info()"
   ]
  },
  {
   "cell_type": "code",
   "execution_count": null,
   "metadata": {},
   "outputs": [],
   "source": [
    "from sklearn.preprocessing import StandardScaler\n",
    "\n",
    "scalable_columns = list(\n",
    "    filter(lambda x: x not in [\"año\", \"capitulo\", \"nombre_capitulo\"], df.columns)\n",
    ")\n",
    "\n",
    "filled_df = df[scalable_columns].fillna(df[scalable_columns].mean())\n",
    "\n",
    "scaler = StandardScaler()\n",
    "scaled_features = scaler.fit_transform(filled_df[scalable_columns])\n",
    "scaled_features"
   ]
  },
  {
   "cell_type": "code",
   "execution_count": null,
   "metadata": {},
   "outputs": [],
   "source": [
    "scaled_df = pd.DataFrame(scaled_features)\n",
    "scaled_df\n",
    "\n",
    "for col, scaled_col in zip(df[scalable_columns].columns, scaled_df.columns):\n",
    "    scaled_df.rename(columns={scaled_col: f\"{col}_scaled\"}, inplace=True)\n",
    "\n",
    "scaled_df"
   ]
  },
  {
   "cell_type": "code",
   "execution_count": null,
   "metadata": {},
   "outputs": [],
   "source": [
    "import numpy as np\n",
    "from sklearn.decomposition import PCA\n",
    "import plotly.graph_objects as go\n",
    "\n",
    "pca = PCA().fit(scaled_features)\n",
    "\n",
    "fig = go.Figure()\n",
    "\n",
    "fig.add_trace(\n",
    "    go.Scatter(\n",
    "        x=np.arange(1, len(pca.explained_variance_ratio_.cumsum()) + 1),\n",
    "        y=pca.explained_variance_ratio_.cumsum(),\n",
    "        mode=\"lines+markers\",\n",
    "        name=\"Cumulative Explained Variance\",\n",
    "        line=dict(color=\"royalblue\"),\n",
    "    )\n",
    ")\n",
    "\n",
    "fig.update_layout(\n",
    "    title=\"Varianza Explicada Acumulada (PCA)\",\n",
    "    xaxis_title=\"Componentes Principales\",\n",
    "    yaxis_title=\"Varianza Explicada Acumulada\",\n",
    "    xaxis=dict(range=[0, 47], tickmode=\"linear\"),\n",
    "    yaxis=dict(range=[0, 1.2]),\n",
    "    template=\"plotly\",\n",
    "    height=800,\n",
    "    width=1400,\n",
    ")\n",
    "\n",
    "fig.show()"
   ]
  },
  {
   "cell_type": "code",
   "execution_count": null,
   "metadata": {},
   "outputs": [],
   "source": [
    "import plotly.express as px\n",
    "\n",
    "N = 17\n",
    "pca = PCA(n_components=N)\n",
    "\n",
    "pca_result = pca.fit_transform(scaled_features)\n",
    "\n",
    "fig = px.scatter(\n",
    "    pca_result,\n",
    "    x=pca_result[:, 0],\n",
    "    y=pca_result[:, 1],\n",
    "    title=\"PCA - Primeras dos componentes principales\",\n",
    "    labels={\"x\": \"PCA 1\", \"y\": \"PCA 2\"},\n",
    ")\n",
    "fig.update_layout(height=800, width=1400)\n",
    "fig.show()"
   ]
  },
  {
   "cell_type": "code",
   "execution_count": null,
   "metadata": {},
   "outputs": [],
   "source": [
    "from sklearn.cluster import KMeans\n",
    "\n",
    "k_values = range(1, 11)\n",
    "\n",
    "intertias = []\n",
    "\n",
    "for k in k_values:\n",
    "    kmeans = KMeans(n_clusters=k, random_state=42).fit(pca_result)\n",
    "    intertias.append(kmeans.inertia_)\n",
    "\n",
    "intertias"
   ]
  },
  {
   "cell_type": "code",
   "execution_count": null,
   "metadata": {},
   "outputs": [],
   "source": [
    "fig = go.Figure()\n",
    "\n",
    "fig.add_trace(\n",
    "    go.Scatter(\n",
    "        x=list(k_values),\n",
    "        y=intertias,\n",
    "        mode=\"lines+markers\",\n",
    "        marker=dict(size=8, color=\"blue\"),\n",
    "        name=\"Inercia\",\n",
    "    )\n",
    ")\n",
    "\n",
    "fig.update_layout(\n",
    "    title=\"Método del codo para determinar k óptimo\",\n",
    "    xaxis_title=\"Cantidad de clústers (k)\",\n",
    "    yaxis_title=\"Inercia (suma de distancias cuadradas)\",\n",
    "    xaxis=dict(tickmode=\"linear\"),\n",
    "    template=\"plotly\",\n",
    "    height=800,\n",
    "    width=1400,\n",
    ")\n",
    "\n",
    "fig.show()"
   ]
  },
  {
   "cell_type": "code",
   "execution_count": null,
   "metadata": {},
   "outputs": [],
   "source": [
    "N_OPTIMAL = 3\n",
    "\n",
    "kmeans_pca = KMeans(n_clusters=N_OPTIMAL, random_state=42)\n",
    "kmeans_pca.fit(pca_result)\n",
    "\n",
    "len(kmeans_pca.labels_)"
   ]
  },
  {
   "cell_type": "code",
   "execution_count": null,
   "metadata": {},
   "outputs": [],
   "source": [
    "pca_df = pd.DataFrame(pca_result)\n",
    "pca_df.columns = [f\"pca_{i+1}\" for i in range(len(pca_df.columns))]\n",
    "pca_df[\"cluster\"] = kmeans_pca.labels_.astype(str)\n",
    "\n",
    "pca_df"
   ]
  },
  {
   "cell_type": "code",
   "execution_count": null,
   "metadata": {},
   "outputs": [],
   "source": [
    "anio_servicio_cluster_df = pd.concat(\n",
    "    [\n",
    "        df[\n",
    "            [\n",
    "                \"año\",\n",
    "                \"capitulo\",\n",
    "                \"nombre_capitulo\",\n",
    "                \"gastos_en_personal\",\n",
    "                \"total_gasto\",\n",
    "                \"total_fonasa\",\n",
    "                \"suicidio_ideacion\",\n",
    "                \"suicidio_intento\",\n",
    "                \"urgencias_lesiones_autoinflingidas\",\n",
    "                \"problemas_ser_atendido_si\",\n",
    "                \"problemas_conseguir_cita_si\",\n",
    "                \"problemas_llegar_consulta_si\",\n",
    "                \"problemas_pagar_por_costo_si\",\n",
    "                \"iniciativas_de_inversion\",\n",
    "                \"top_5_dias_hospitalizacion_total_parto\",\n",
    "                \"top_5_dias_hospitalizacion_total_diabetes_mellitus\",\n",
    "                \"top_5_cantidad_hospitalizaciones_influenza_[gripe]_y_neumonía\",\n",
    "                \"top_5_cantidad_hospitalizaciones_otras_formas_de_enfermedad_del_corazón\",\n",
    "                \"top_5_cantidad_hospitalizaciones_trastornos_de_la_vesícula_biliar_de_las_vías_biliares_y_del_páncreas\",\n",
    "            ]\n",
    "        ],\n",
    "        scaled_df,\n",
    "        pca_df,\n",
    "    ],\n",
    "    axis=1,\n",
    ")\n",
    "\n",
    "anio_servicio_cluster_df"
   ]
  },
  {
   "cell_type": "code",
   "execution_count": null,
   "metadata": {},
   "outputs": [],
   "source": [
    "fig = px.scatter(\n",
    "    anio_servicio_cluster_df,\n",
    "    x=\"total_gasto\",\n",
    "    y=\"suicidio_ideacion\",\n",
    "    color=\"cluster\",\n",
    "    hover_data=[\"año\", \"nombre_capitulo\", \"total_fonasa\"],\n",
    "    title=\"Total Gasto vs. Ideación Suicida (ingresos 3ra edad)\",\n",
    ")\n",
    "fig.update_layout(\n",
    "    height=800,\n",
    "    width=1400,\n",
    ")\n",
    "fig.update_traces(marker=dict(size=8))\n",
    "fig.show()\n",
    "fig.write_html(\"../plots/presentacion/total_gasto_vs_suicidio_ideacion.html\")"
   ]
  },
  {
   "cell_type": "code",
   "execution_count": null,
   "metadata": {},
   "outputs": [],
   "source": [
    "anio_servicio_cluster_df.query(\"año == 2018\")[\"suicidio_intento\"].value_counts()"
   ]
  },
  {
   "cell_type": "code",
   "execution_count": null,
   "metadata": {},
   "outputs": [],
   "source": [
    "fig = px.scatter(\n",
    "    anio_servicio_cluster_df,\n",
    "    x=\"total_gasto\",\n",
    "    y=\"suicidio_intento\",\n",
    "    color=\"cluster\",\n",
    "    hover_data=[\"año\", \"nombre_capitulo\", \"total_fonasa\"],\n",
    "    title=\"Total Gasto vs. Intento de Suicidio (ingresos 3ra edad)\",\n",
    ")\n",
    "fig.update_layout(\n",
    "    height=800,\n",
    "    width=1400,\n",
    ")\n",
    "fig.update_traces(marker=dict(size=8))\n",
    "fig.show()\n",
    "fig.write_html(\"../plots/presentacion/total_gasto_vs_suicidio_intento.html\")"
   ]
  },
  {
   "cell_type": "code",
   "execution_count": null,
   "metadata": {},
   "outputs": [],
   "source": [
    "fig = px.bar(\n",
    "    anio_servicio_cluster_df.sort_values(by=\"total_gasto\", ascending=True),\n",
    "    x=\"total_gasto\",\n",
    "    y=\"nombre_capitulo\",\n",
    "    color=\"cluster\",\n",
    "    hover_data=[\"año\", \"total_fonasa\"],\n",
    "    title=\"Total de gasto por Servicio de Salud (ordenado por gasto)\",\n",
    ")\n",
    "fig.update_layout(\n",
    "    height=800,\n",
    "    width=1400,\n",
    ")\n",
    "fig.show()\n",
    "fig.write_html(\"../plots/presentacion/total_gasto_vs_servicio.html\")"
   ]
  },
  {
   "cell_type": "code",
   "execution_count": null,
   "metadata": {},
   "outputs": [],
   "source": [
    "fig = px.bar(\n",
    "    anio_servicio_cluster_df.sort_values(by=\"total_fonasa\", ascending=True),\n",
    "    x=\"total_fonasa\",\n",
    "    y=\"nombre_capitulo\",\n",
    "    color=\"cluster\",\n",
    "    hover_data=[\"año\"],\n",
    "    title=\"Total de personas en Fonasa por Servicio de Salud (ordenado por personas Fonasa)\",\n",
    ")\n",
    "fig.update_layout(\n",
    "    height=800,\n",
    "    width=1400,\n",
    ")\n",
    "fig.show()\n",
    "fig.write_html(\"../plots/presentacion/total_fonasa_vs_servicio.html\")"
   ]
  },
  {
   "cell_type": "code",
   "execution_count": null,
   "metadata": {},
   "outputs": [],
   "source": [
    "fig = px.bar(\n",
    "    anio_servicio_cluster_df.sort_values(by=\"total_fonasa\", ascending=True),\n",
    "    x=\"urgencias_lesiones_autoinflingidas\",\n",
    "    y=\"nombre_capitulo\",\n",
    "    color=\"cluster\",\n",
    "    hover_data=[\"año\", \"total_gasto\"],\n",
    "    title=\"Ingresos 3ra Edad por Urgencias Lesiones Autoinflingidas por Servicio (ordenado por personas Fonasa)\",\n",
    ")\n",
    "fig.update_layout(\n",
    "    height=800,\n",
    "    width=1400,\n",
    ")\n",
    "fig.show()\n",
    "fig.write_html(\"../plots/presentacion/urgencias_autolesiones_vs_servicio.html\")"
   ]
  },
  {
   "cell_type": "code",
   "execution_count": null,
   "metadata": {},
   "outputs": [],
   "source": [
    "fig = px.bar(\n",
    "    anio_servicio_cluster_df.query(\"año == 2023\").sort_values(\n",
    "        by=\"total_fonasa\", ascending=True\n",
    "    ),\n",
    "    x=\"urgencias_lesiones_autoinflingidas_scaled\",\n",
    "    y=\"nombre_capitulo\",\n",
    "    color=\"cluster\",\n",
    "    hover_data=[\"año\", \"total_gasto\"],\n",
    "    title=\"Año 2023 - Total Gasto vs. Ingresos 3ra Edad por Urgencias Lesiones Autoinflingidas (ordenado por personas Fonasa)\",\n",
    ")\n",
    "fig.update_layout(\n",
    "    height=800,\n",
    "    width=1400,\n",
    ")\n",
    "fig.show()\n",
    "fig.write_html(\"../plots/presentacion/urgencias_autolesiones_vs_servicio_2023.html\")"
   ]
  },
  {
   "cell_type": "code",
   "execution_count": null,
   "metadata": {},
   "outputs": [],
   "source": [
    "anio_servicio_cluster_df.columns"
   ]
  },
  {
   "cell_type": "code",
   "execution_count": null,
   "metadata": {},
   "outputs": [],
   "source": [
    "fig = px.scatter(\n",
    "    anio_servicio_cluster_df.query(\"año == 2022\"),\n",
    "    x=\"urgencias_lesiones_autoinflingidas\",\n",
    "    y=\"total_gasto\",\n",
    "    color=\"cluster\",\n",
    "    hover_data=[\"año\", \"nombre_capitulo\", \"total_fonasa\"],\n",
    "    title=\"Año 2022 - Total Gasto vs. Ingresos 3ra Edad por Urgencias Lesiones Autoinflingidas\",\n",
    ")\n",
    "fig.update_layout(\n",
    "    height=800,\n",
    "    width=1400,\n",
    ")\n",
    "fig.update_traces(marker=dict(size=16))\n",
    "fig.show()\n",
    "fig.write_html(\"../plots/presentacion/total_gasto_vs_urgencias_autolesiones_2022.html\")"
   ]
  },
  {
   "cell_type": "code",
   "execution_count": null,
   "metadata": {},
   "outputs": [],
   "source": [
    "fig = px.scatter(\n",
    "    anio_servicio_cluster_df.query(\"año == 2023\"),\n",
    "    x=\"urgencias_lesiones_autoinflingidas\",\n",
    "    y=\"total_gasto\",\n",
    "    color=\"cluster\",\n",
    "    hover_data=[\"año\", \"nombre_capitulo\", \"total_fonasa\"],\n",
    "    title=\"Año 2023 - Total Gasto vs. Ingresos 3ra Edad por Urgencias Lesiones Autoinflingidas\",\n",
    ")\n",
    "fig.update_layout(\n",
    "    height=800,\n",
    "    width=1400,\n",
    ")\n",
    "fig.update_traces(marker=dict(size=16))\n",
    "fig.show()\n",
    "fig.write_html(\"../plots/presentacion/total_gasto_vs_urgencias_autolesiones_2023.html\")"
   ]
  },
  {
   "cell_type": "code",
   "execution_count": null,
   "metadata": {},
   "outputs": [],
   "source": [
    "fig = px.scatter(\n",
    "    anio_servicio_cluster_df,\n",
    "    x=\"suicidio_intento_scaled\",\n",
    "    y=\"total_gasto\",\n",
    "    color=\"cluster\",\n",
    "    hover_data=[\"año\", \"nombre_capitulo\", \"total_fonasa\"],\n",
    "    title=\"Total Gasto vs. Ingresos 3ra Edad por Intento de Suicidio\",\n",
    ")\n",
    "fig.update_layout(\n",
    "    height=800,\n",
    "    width=1400,\n",
    ")\n",
    "fig.update_traces(marker=dict(size=16))\n",
    "fig.show()\n",
    "fig.write_html(\"../plots/presentacion/total_gasto_vs_suicidio_intento.html\")"
   ]
  },
  {
   "cell_type": "code",
   "execution_count": null,
   "metadata": {},
   "outputs": [],
   "source": [
    "fig = px.scatter(\n",
    "    anio_servicio_cluster_df,\n",
    "    x=\"problemas_conseguir_cita_si\",\n",
    "    y=\"total_gasto\",\n",
    "    color=\"cluster\",\n",
    "    hover_data=[\"año\", \"nombre_capitulo\", \"total_fonasa\"],\n",
    "    title=\"Problemas para conseguir cita vs. Total Gasto\",\n",
    ")\n",
    "fig.update_layout(\n",
    "    height=800,\n",
    "    width=1400,\n",
    ")\n",
    "fig.update_traces(marker=dict(size=10))\n",
    "fig.show()\n",
    "fig.write_html(\"../plots/presentacion/problemas_conseguir_cita_vs_total_gasto.html\")"
   ]
  },
  {
   "cell_type": "code",
   "execution_count": null,
   "metadata": {},
   "outputs": [],
   "source": [
    "fig = px.scatter(\n",
    "    anio_servicio_cluster_df,\n",
    "    x=\"problemas_conseguir_cita_si\",\n",
    "    y=\"gastos_en_personal\",\n",
    "    color=\"cluster\",\n",
    "    hover_data=[\"año\", \"nombre_capitulo\", \"total_fonasa\"],\n",
    "    title=\"Problemas para conseguir cita vs. Gastos en personal\",\n",
    ")\n",
    "fig.update_layout(\n",
    "    height=800,\n",
    "    width=1400,\n",
    ")\n",
    "fig.update_traces(marker=dict(size=10))\n",
    "fig.show()\n",
    "fig.write_html(\n",
    "    \"../plots/presentacion/problemas_conseguir_cita_vs_gastos_en_personal.html\"\n",
    ")"
   ]
  },
  {
   "cell_type": "code",
   "execution_count": null,
   "metadata": {},
   "outputs": [],
   "source": [
    "fig = px.bar(\n",
    "    anio_servicio_cluster_df.sort_values(by=\"total_fonasa\", ascending=True),\n",
    "    x=\"problemas_conseguir_cita_si\",\n",
    "    y=\"nombre_capitulo\",\n",
    "    color=\"cluster\",\n",
    "    hover_data=[\"año\", \"total_fonasa\"],\n",
    "    title=\"Problemas para conseguir citas por Servicio de Salud\",\n",
    ")\n",
    "fig.update_layout(\n",
    "    height=800,\n",
    "    width=1400,\n",
    ")\n",
    "fig.show()"
   ]
  },
  {
   "cell_type": "code",
   "execution_count": null,
   "metadata": {},
   "outputs": [],
   "source": [
    "fig = px.bar(\n",
    "    anio_servicio_cluster_df.sort_values(\n",
    "        by=\"problemas_pagar_por_costo_si\", ascending=True\n",
    "    ),\n",
    "    x=\"problemas_pagar_por_costo_si\",\n",
    "    y=\"nombre_capitulo\",\n",
    "    color=\"cluster\",\n",
    "    hover_data=[\"año\", \"total_fonasa\"],\n",
    "    title=\"Problemas para pagar por costo por Servicio de Salud\",\n",
    ")\n",
    "fig.update_layout(\n",
    "    height=800,\n",
    "    width=1400,\n",
    ")\n",
    "fig.show()"
   ]
  },
  {
   "cell_type": "code",
   "execution_count": null,
   "metadata": {},
   "outputs": [],
   "source": [
    "fig = px.histogram(\n",
    "    anio_servicio_cluster_df,\n",
    "    x=\"problemas_pagar_por_costo_si\",\n",
    "    color=\"cluster\",\n",
    "    hover_data=[\"año\", \"total_fonasa\"],\n",
    "    title=\"Frecuencia de Problemas para pagar por costo\",\n",
    ")\n",
    "fig.update_layout(\n",
    "    height=800,\n",
    "    width=1400,\n",
    ")\n",
    "fig.show()\n",
    "fig.write_html(\"../plots/presentacion/frecuencia_problemas_pago.html\")"
   ]
  },
  {
   "cell_type": "code",
   "execution_count": null,
   "metadata": {},
   "outputs": [],
   "source": [
    "anio_servicio_cluster_df[\"problemas_pagar_por_costo_si\"].value_counts(\n",
    "    ascending=True\n",
    ").sort_index()"
   ]
  },
  {
   "cell_type": "code",
   "execution_count": null,
   "metadata": {},
   "outputs": [],
   "source": [
    "fig = px.histogram(\n",
    "    anio_servicio_cluster_df,\n",
    "    x=\"top_5_cantidad_hospitalizaciones_trastornos_de_la_vesícula_biliar_de_las_vías_biliares_y_del_páncreas\",\n",
    "    color=\"cluster\",\n",
    "    hover_data=[\"año\", \"total_fonasa\"],\n",
    "    title=\"Frecuencia de hospitalizaciones por Trastornos de la Vesícula Biliar, de las Vías Biliares y del Páncreas\",\n",
    ")\n",
    "fig.update_layout(\n",
    "    height=800,\n",
    "    width=1400,\n",
    ")\n",
    "fig.show()\n",
    "fig.write_html(\"../plots/presentacion/frecuencia_hospitalizaciones_vesicula.html\")"
   ]
  },
  {
   "cell_type": "code",
   "execution_count": null,
   "metadata": {},
   "outputs": [],
   "source": [
    "fig = px.scatter(\n",
    "    anio_servicio_cluster_df,\n",
    "    x=\"iniciativas_de_inversion\",\n",
    "    y=\"suicidio_ideacion\",\n",
    "    color=\"cluster\",\n",
    "    hover_data=[\"año\", \"nombre_capitulo\", \"total_fonasa\"],\n",
    "    title=\"Gasto en Iniciativas de Inversión vs. Ideación Suicida (ingresos 3ra edad)\",\n",
    ")\n",
    "fig.update_layout(\n",
    "    height=800,\n",
    "    width=1400,\n",
    ")\n",
    "fig.update_traces(marker=dict(size=8))\n",
    "fig.show()"
   ]
  },
  {
   "cell_type": "code",
   "execution_count": null,
   "metadata": {},
   "outputs": [],
   "source": [
    "# EXCLUDED_VARIABLES = [\"año\", \"capitulo\", \"nombre_capitulo\"]\n",
    "\n",
    "\n",
    "# def generate_scatter_matrix_year(df, year):\n",
    "#     analysis_variables = list(filter(lambda x: x not in EXCLUDED_VARIABLES, df.columns))\n",
    "\n",
    "#     plot = sns.pairplot(\n",
    "#         df[df[\"año\"] == year][analysis_variables],\n",
    "#         kind=\"reg\",\n",
    "#         diag_kind=\"kde\",\n",
    "#         plot_kws={\"line_kws\": {\"color\": \"red\"}},\n",
    "#         diag_kws={\"color\": \"red\"},\n",
    "#     )\n",
    "\n",
    "#     for ax in plot.axes.flatten():\n",
    "#         ax.set_xlabel(ax.get_xlabel(), rotation=45)\n",
    "#         ax.set_ylabel(ax.get_ylabel(), rotation=45)\n",
    "#         ax.yaxis.get_label().set_horizontalalignment(\"right\")\n",
    "\n",
    "#     plot.figure.suptitle(f\"AÑO {year}\", y=1.01, fontsize=16)\n",
    "#     plot.savefig(f\"../plots/clustering/corr_matrix_{year}.png\", dpi=65)"
   ]
  }
 ],
 "metadata": {
  "kernelspec": {
   "display_name": "Python 3",
   "language": "python",
   "name": "python3"
  },
  "language_info": {
   "codemirror_mode": {
    "name": "ipython",
    "version": 3
   },
   "file_extension": ".py",
   "mimetype": "text/x-python",
   "name": "python",
   "nbconvert_exporter": "python",
   "pygments_lexer": "ipython3",
   "version": "3.12.2"
  }
 },
 "nbformat": 4,
 "nbformat_minor": 2
}
