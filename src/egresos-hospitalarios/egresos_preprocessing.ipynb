{
 "cells": [
  {
   "cell_type": "code",
   "execution_count": null,
   "metadata": {},
   "outputs": [],
   "source": [
    "%pip install pandas numpy matplotlib plotly seaborn openpyxl"
   ]
  },
  {
   "cell_type": "code",
   "execution_count": null,
   "metadata": {
    "colab": {
     "base_uri": "https://localhost:8080/"
    },
    "id": "jM0eqAwZQZkx",
    "outputId": "02085543-1264-4972-c063-c635f09cbd00"
   },
   "outputs": [],
   "source": [
    "import os\n",
    "import pandas as pd\n",
    "\n",
    "\n",
    "def get_egresos_csv_files(root_path):\n",
    "    csv_files = [\n",
    "        os.path.join(root_path, file)\n",
    "        for file in os.listdir(root_path)\n",
    "        if file.endswith(\".csv\")\n",
    "    ]\n",
    "    return sorted(csv_files)\n",
    "\n",
    "\n",
    "egresos_root_path = \"../../datasets/egresos-hospitalarios\"\n",
    "egresos_folders = sorted(os.listdir(egresos_root_path))\n",
    "egresos_csvs = get_egresos_csv_files(egresos_root_path)"
   ]
  },
  {
   "cell_type": "code",
   "execution_count": null,
   "metadata": {},
   "outputs": [],
   "source": [
    "egresos_df = pd.DataFrame()\n",
    "\n",
    "for csv_file in egresos_csvs:\n",
    "    egresos = pd.read_csv(\n",
    "        csv_file,\n",
    "        delimiter=\";\",\n",
    "        converters={\n",
    "            \"CONDICION_EGRESO\": lambda v: True if v == \"2\" else False,\n",
    "            \"INTERV_Q\": lambda v: True if v == \"1\" else False,\n",
    "            \"PROCED\": lambda v: True if v == \"1\" else False,\n",
    "        },\n",
    "    )\n",
    "    egresos.columns = egresos.columns.str.lower()\n",
    "    egresos.rename(\n",
    "        columns={\n",
    "            \"ano_egreso\": \"año\",\n",
    "            \"diag1\": \"diagnostico_principal\",\n",
    "            \"diag2\": \"causa_externa\",\n",
    "            \"dias_estada\": \"dias_hospitalizacion\",\n",
    "            \"interv_q\": \"intervencion_quirurgica\",\n",
    "            \"proced\": \"procedimiento\",\n",
    "            \"condicion_egreso\": \"egreso_muerte\",\n",
    "        },\n",
    "        inplace=True,\n",
    "    )\n",
    "\n",
    "    if \"glosa_interv_q_ppal\" in egresos.columns:\n",
    "        egresos.insert(\n",
    "            egresos.columns.get_loc(\"egreso_muerte\") + 1,\n",
    "            \"intervencion_quirurgica\",\n",
    "            None,\n",
    "        )\n",
    "        egresos[\"intervencion_quirurgica\"] = egresos[\"glosa_interv_q_ppal\"].notna()\n",
    "\n",
    "    if \"glosa_proced_ppal\" in egresos.columns:\n",
    "        egresos.insert(\n",
    "            egresos.columns.get_loc(\"intervencion_quirurgica\") + 1,\n",
    "            \"procedimiento\",\n",
    "            None,\n",
    "        )\n",
    "        egresos[\"procedimiento\"] = egresos[\"glosa_proced_ppal\"].notna()\n",
    "\n",
    "    if \"intervencion_quirurgica\" not in egresos.columns:\n",
    "        egresos.insert(\n",
    "            egresos.columns.get_loc(\"egreso_muerte\") + 1,\n",
    "            \"intervencion_quirurgica\",\n",
    "            None,\n",
    "        )\n",
    "\n",
    "    if \"procedimiento\" not in egresos.columns:\n",
    "        egresos.insert(\n",
    "            egresos.columns.get_loc(\"intervencion_quirurgica\") + 1,\n",
    "            \"procedimiento\",\n",
    "            None,\n",
    "        )\n",
    "\n",
    "    egresos.drop(\n",
    "        columns=[\n",
    "            \"pertenencia_establecimiento_salud\",\n",
    "            \"pertenencia_establecimiento_salu\",\n",
    "            \"prevision\",\n",
    "            \"glosa_prevision\",\n",
    "            \"region_residencia\",\n",
    "            \"glosa_region_residencia\",\n",
    "            \"sexo\",\n",
    "            \"glosa_interv_q_ppal\",\n",
    "            \"glosa_proced_ppal\",\n",
    "        ],\n",
    "        inplace=True,\n",
    "        errors=\"ignore\",\n",
    "    )\n",
    "    egresos[\"procedimiento\"] = egresos[\"procedimiento\"].astype(bool)\n",
    "    egresos[\"intervencion_quirurgica\"] = egresos[\"intervencion_quirurgica\"].astype(bool)\n",
    "    egresos_df = pd.concat([egresos_df, egresos], ignore_index=True)\n",
    "\n",
    "print(egresos_df[\"egreso_muerte\"].value_counts())\n",
    "print(egresos_df[\"intervencion_quirurgica\"].value_counts())\n",
    "print(egresos_df[\"procedimiento\"].value_counts())\n",
    "print(egresos_df.info())"
   ]
  },
  {
   "cell_type": "code",
   "execution_count": null,
   "metadata": {},
   "outputs": [],
   "source": [
    "egresos_df.head()"
   ]
  },
  {
   "cell_type": "code",
   "execution_count": null,
   "metadata": {},
   "outputs": [],
   "source": [
    "egresos_df[[\"diagnostico_principal\"]].value_counts(dropna=False)"
   ]
  },
  {
   "cell_type": "code",
   "execution_count": null,
   "metadata": {},
   "outputs": [],
   "source": [
    "diagnosticos = pd.read_excel(\n",
    "    \"../../datasets/egresos-hospitalarios/diccionario.xlsx\",\n",
    "    sheet_name=\"codigo CIE-10\",\n",
    "    skiprows=8,\n",
    ")\n",
    "diagnosticos.columns = diagnosticos.columns.str.lower().str.replace(\" \", \"_\")\n",
    "diagnosticos.head()"
   ]
  },
  {
   "cell_type": "code",
   "execution_count": null,
   "metadata": {},
   "outputs": [],
   "source": [
    "print(len(diagnosticos[\"glosa_subcategoria\"].unique()))\n",
    "print(len(diagnosticos[\"glosa_grupo_\"].unique()))"
   ]
  },
  {
   "cell_type": "code",
   "execution_count": null,
   "metadata": {},
   "outputs": [],
   "source": [
    "egresos_diag_df = pd.merge(\n",
    "    egresos_df,\n",
    "    diagnosticos.add_prefix(\"diagnostico_\"),\n",
    "    left_on=\"diagnostico_principal\",\n",
    "    right_on=\"diagnostico_codigo_subcategoria\",\n",
    ")\n",
    "print(egresos_diag_df.info())\n",
    "egresos_diag_df.head()"
   ]
  },
  {
   "cell_type": "code",
   "execution_count": null,
   "metadata": {},
   "outputs": [],
   "source": [
    "egresos_diag_df[[\"causa_externa\"]].isna().value_counts(dropna=False)"
   ]
  },
  {
   "cell_type": "code",
   "execution_count": null,
   "metadata": {},
   "outputs": [],
   "source": [
    "egresos_diag_causa_df = pd.merge(\n",
    "    egresos_diag_df,\n",
    "    diagnosticos.add_prefix(\"causa_externa_\"),\n",
    "    left_on=\"causa_externa\",\n",
    "    right_on=\"causa_externa_codigo_subcategoria\",\n",
    "    how=\"left\",\n",
    ")\n",
    "\n",
    "print(egresos_diag_causa_df.info())\n",
    "print(egresos_diag_causa_df.head())\n",
    "\n",
    "egresos_diag_causa_df[\"diagnostico_principal\"] = egresos_diag_causa_df[\n",
    "    \"diagnostico_glosa_subcategoria\"\n",
    "]\n",
    "egresos_diag_causa_df[\"causa_externa\"] = egresos_diag_causa_df[\n",
    "    \"causa_externa_glosa_subcategoria\"\n",
    "]\n",
    "\n",
    "egresos_diag_causa_df.rename(\n",
    "    columns={\n",
    "        \"diagnostico_glosa_grupo_\": \"diagnostico_glosa_grupo\",\n",
    "        \"causa_externa_glosa_grupo_\": \"causa_externa_glosa_grupo\",\n",
    "    },\n",
    "    inplace=True,\n",
    ")"
   ]
  },
  {
   "cell_type": "code",
   "execution_count": null,
   "metadata": {},
   "outputs": [],
   "source": [
    "print(\"isna?\", egresos_diag_causa_df[[\"diagnostico_principal\"]].isna().value_counts())\n",
    "print(\"isna?\", egresos_diag_causa_df[[\"causa_externa\"]].isna().value_counts())"
   ]
  },
  {
   "cell_type": "code",
   "execution_count": null,
   "metadata": {},
   "outputs": [],
   "source": [
    "egresos_diag_causa_df.drop(\n",
    "    columns=[\n",
    "        \"diagnostico_codigo_subcategoria\",\n",
    "        \"diagnostico_glosa_subcategoria\",\n",
    "        \"diagnostico_capitulo\",\n",
    "        \"diagnostico_codigo_grupo_\",\n",
    "        \"diagnostico_codigo_categoria\",\n",
    "        \"causa_externa_codigo_subcategoria\",\n",
    "        \"causa_externa_glosa_subcategoria\",\n",
    "        \"causa_externa_capitulo\",\n",
    "        \"causa_externa_codigo_grupo_\",\n",
    "        \"causa_externa_codigo_categoria\",\n",
    "    ],\n",
    "    inplace=True,\n",
    "    errors=\"ignore\",\n",
    ")"
   ]
  },
  {
   "cell_type": "code",
   "execution_count": null,
   "metadata": {},
   "outputs": [],
   "source": [
    "egresos_diag_causa_df.info()"
   ]
  },
  {
   "cell_type": "code",
   "execution_count": null,
   "metadata": {},
   "outputs": [],
   "source": [
    "egresos_diag_causa_df[[\"comuna_residencia\"]].isna().value_counts()"
   ]
  },
  {
   "cell_type": "code",
   "execution_count": null,
   "metadata": {},
   "outputs": [],
   "source": [
    "%run ../load_comunas_servicios.py \"../../datasets/comunas_por_zona.csv\"\n",
    "\n",
    "comunas_servicios_df.rename(columns={\"zona_id\": \"capitulo\", \"zona\": \"nombre_capitulo\"}, inplace=True)\n",
    "print(comunas_servicios_df.info())\n",
    "comunas_servicios_df.head()"
   ]
  },
  {
   "cell_type": "code",
   "execution_count": null,
   "metadata": {},
   "outputs": [],
   "source": [
    "comunas_servicios_df[comunas_servicios_df[\"comuna\"] == \"Chaitén\"]"
   ]
  },
  {
   "cell_type": "code",
   "execution_count": null,
   "metadata": {},
   "outputs": [],
   "source": [
    "egresos_diag_causa_df = pd.merge(\n",
    "    egresos_diag_causa_df,\n",
    "    comunas_servicios_df[[\"capitulo\", \"nombre_capitulo\", \"comuna_id\"]],  # type: ignore\n",
    "    left_on=\"comuna_residencia\",\n",
    "    right_on=\"comuna_id\",\n",
    "    how=\"left\",\n",
    ")"
   ]
  },
  {
   "cell_type": "code",
   "execution_count": null,
   "metadata": {},
   "outputs": [],
   "source": [
    "print(egresos_diag_causa_df[[\"capitulo\"]].isna().value_counts())\n",
    "egresos_diag_causa_df[egresos_diag_causa_df[\"capitulo\"].isna()]"
   ]
  },
  {
   "cell_type": "code",
   "execution_count": null,
   "metadata": {},
   "outputs": [],
   "source": [
    "print(\n",
    "    egresos_diag_causa_df[egresos_diag_causa_df[\"capitulo\"].isna()][\n",
    "        \"comuna_residencia\"\n",
    "    ].unique()\n",
    ")\n",
    "print(\n",
    "    egresos_diag_causa_df[egresos_diag_causa_df[\"capitulo\"].isna()][\n",
    "        \"glosa_comuna_residencia\"\n",
    "    ].unique()\n",
    ")"
   ]
  },
  {
   "cell_type": "code",
   "execution_count": null,
   "metadata": {},
   "outputs": [],
   "source": [
    "missing_capitulos = egresos_diag_causa_df[egresos_diag_causa_df[\"capitulo\"].isna()][\n",
    "    [\"comuna_residencia\", \"glosa_comuna_residencia\"]\n",
    "]\n",
    "missing_capitulos.value_counts()"
   ]
  },
  {
   "cell_type": "code",
   "execution_count": null,
   "metadata": {},
   "outputs": [],
   "source": [
    "egresos_diag_causa_df = egresos_diag_causa_df[\n",
    "    ~egresos_diag_causa_df[\"comuna_residencia\"].isin([88888, 99999])\n",
    "]\n",
    "missing_capitulos = egresos_diag_causa_df[egresos_diag_causa_df[\"capitulo\"].isna()][\n",
    "    [\"comuna_residencia\", \"glosa_comuna_residencia\"]\n",
    "]\n",
    "missing_capitulos.value_counts()"
   ]
  },
  {
   "cell_type": "code",
   "execution_count": null,
   "metadata": {},
   "outputs": [],
   "source": [
    "egresos_diag_causa_df.drop(\n",
    "    columns=[\"comuna_id\", \"comuna_residencia\", \"glosa_comuna_residencia\"],\n",
    "    inplace=True,\n",
    "    errors=\"ignore\",\n",
    ")\n",
    "\n",
    "egresos_diag_causa_df.head()"
   ]
  },
  {
   "cell_type": "code",
   "execution_count": null,
   "metadata": {},
   "outputs": [],
   "source": [
    "egresos_diag_causa_df.info()"
   ]
  },
  {
   "cell_type": "code",
   "execution_count": null,
   "metadata": {},
   "outputs": [],
   "source": [
    "egresos_diag_causa_df = egresos_diag_causa_df[\n",
    "    [\n",
    "        \"año\",\n",
    "        \"capitulo\",\n",
    "        \"nombre_capitulo\",\n",
    "        \"grupo_edad\",\n",
    "        \"etnia\",\n",
    "        \"glosa_pais_origen\",\n",
    "        \"diagnostico_principal\",\n",
    "        \"diagnostico_glosa_categoria\",\n",
    "        \"diagnostico_glosa_grupo\",\n",
    "        \"diagnostico_glosa_capitulo\",\n",
    "        \"dias_hospitalizacion\",\n",
    "        \"egreso_muerte\",\n",
    "        \"causa_externa\",\n",
    "        \"causa_externa_glosa_categoria\",\n",
    "        \"causa_externa_glosa_grupo\",\n",
    "        \"causa_externa_glosa_capitulo\",\n",
    "        \"intervencion_quirurgica\",\n",
    "        \"procedimiento\",\n",
    "    ]\n",
    "]\n",
    "egresos_diag_causa_df"
   ]
  },
  {
   "cell_type": "code",
   "execution_count": null,
   "metadata": {},
   "outputs": [],
   "source": [
    "egresos_diag_causa_df.drop(\n",
    "    columns=[\"grupo_edad\", \"etnia\", \"glosa_pais_origen\"], inplace=True\n",
    ")"
   ]
  },
  {
   "cell_type": "code",
   "execution_count": null,
   "metadata": {},
   "outputs": [],
   "source": [
    "egresos_diag_causa_df.info()"
   ]
  },
  {
   "cell_type": "code",
   "execution_count": null,
   "metadata": {},
   "outputs": [],
   "source": [
    "DIAGNOSTICO_VARIABLE = \"diagnostico_glosa_grupo\"\n",
    "\n",
    "egresos_diag_causa_df.query(\n",
    "    f\"año == 2023 and capitulo == 53 and {DIAGNOSTICO_VARIABLE} == 'Úlcera gástrica'\"\n",
    ")[\"dias_hospitalizacion\"].count()"
   ]
  },
  {
   "cell_type": "code",
   "execution_count": null,
   "metadata": {},
   "outputs": [],
   "source": [
    "grouped_egresos_df = (\n",
    "    egresos_diag_causa_df.groupby(\n",
    "        [\"año\", \"capitulo\", \"nombre_capitulo\", DIAGNOSTICO_VARIABLE]\n",
    "    )\n",
    "    .agg({\"dias_hospitalizacion\": [\"count\", \"sum\", \"mean\"]})\n",
    "    .reset_index()\n",
    ")\n",
    "\n",
    "grouped_egresos_df.columns = [\n",
    "    \"_\".join(col) if col[1] else col[0] for col in grouped_egresos_df.columns\n",
    "]\n",
    "\n",
    "grouped_egresos_df.rename(\n",
    "    columns={\n",
    "        \"dias_hospitalizacion_count\": \"cantidad_hospitalizaciones\",\n",
    "        \"dias_hospitalizacion_sum\": \"dias_hospitalizacion_total\",\n",
    "        \"dias_hospitalizacion_mean\": \"dias_hospitalizacion_promedio\",\n",
    "    },\n",
    "    inplace=True,\n",
    "    errors=\"ignore\",\n",
    ")\n",
    "grouped_egresos_df"
   ]
  },
  {
   "cell_type": "code",
   "execution_count": null,
   "metadata": {},
   "outputs": [],
   "source": [
    "grouped_egresos_df.sort_values(\n",
    "    by=[\"año\", \"capitulo\", \"nombre_capitulo\", \"cantidad_hospitalizaciones\"],\n",
    "    ascending=[True, True, True, False],\n",
    ").query(\"capitulo == 21\")"
   ]
  },
  {
   "cell_type": "code",
   "execution_count": null,
   "metadata": {},
   "outputs": [],
   "source": [
    "K = 5\n",
    "\n",
    "\n",
    "def get_top_k_for(k, variables, df):\n",
    "    result_df = pd.DataFrame()\n",
    "\n",
    "    for variable in variables:\n",
    "        top_k_df = (\n",
    "            df.sort_values(\n",
    "                by=[\"año\", \"capitulo\", \"nombre_capitulo\", variable],\n",
    "                ascending=[True, True, True, False],\n",
    "            )\n",
    "            .groupby([\"año\", \"capitulo\", \"nombre_capitulo\"])[\n",
    "                [\n",
    "                    \"año\",\n",
    "                    \"capitulo\",\n",
    "                    \"nombre_capitulo\",\n",
    "                    DIAGNOSTICO_VARIABLE,\n",
    "                    variable,\n",
    "                ]\n",
    "            ]\n",
    "            .head(k)\n",
    "            .reset_index(drop=True)\n",
    "        )\n",
    "\n",
    "        if result_df.empty:\n",
    "            result_df = top_k_df.rename(\n",
    "                columns={\n",
    "                    variable: f\"top_{k}_{variable}\",\n",
    "                    DIAGNOSTICO_VARIABLE: f\"top_{k}_{variable}_diagnostico\",\n",
    "                }\n",
    "            )\n",
    "        else:\n",
    "            top_k_variable_name = f\"top_{k}_{variable}\"\n",
    "            new_columns = top_k_df.rename(\n",
    "                columns={\n",
    "                    variable: top_k_variable_name,\n",
    "                    DIAGNOSTICO_VARIABLE: f\"{top_k_variable_name}_diagnostico\",\n",
    "                }\n",
    "            ).iloc[:, -2:]\n",
    "            result_df = pd.concat([result_df, new_columns], axis=1)\n",
    "\n",
    "    return result_df\n",
    "\n",
    "\n",
    "top_k_grouped_df = get_top_k_for(\n",
    "    K,\n",
    "    [\n",
    "        \"cantidad_hospitalizaciones\",\n",
    "        \"dias_hospitalizacion_total\",\n",
    "        \"dias_hospitalizacion_promedio\",\n",
    "    ],\n",
    "    grouped_egresos_df,\n",
    ")\n",
    "\n",
    "top_k_grouped_df"
   ]
  },
  {
   "cell_type": "code",
   "execution_count": null,
   "metadata": {},
   "outputs": [],
   "source": [
    "hospitalizaciones_anio_servicio_df = (\n",
    "    top_k_grouped_df.pivot_table(\n",
    "        index=[\"año\", \"capitulo\", \"nombre_capitulo\"],\n",
    "        columns=[f\"top_{K}_cantidad_hospitalizaciones_diagnostico\"],\n",
    "        values=[f\"top_{K}_cantidad_hospitalizaciones\"],\n",
    "    )\n",
    "    .reset_index()\n",
    "    .fillna(0)\n",
    ")\n",
    "\n",
    "hospitalizaciones_anio_servicio_df.columns = [\n",
    "    \"_\".join(col).replace(\" \", \"_\").replace(\",\", \"\").lower() if col[1] else col[0]\n",
    "    for col in hospitalizaciones_anio_servicio_df.columns\n",
    "]\n",
    "\n",
    "hospitalizaciones_anio_servicio_df"
   ]
  },
  {
   "cell_type": "code",
   "execution_count": null,
   "metadata": {},
   "outputs": [],
   "source": [
    "dias_hospitalizacion_total_anio_servicio_df = (\n",
    "    top_k_grouped_df.pivot_table(\n",
    "        index=[\"año\", \"capitulo\", \"nombre_capitulo\"],\n",
    "        columns=[f\"top_{K}_dias_hospitalizacion_total_diagnostico\"],\n",
    "        values=[f\"top_{K}_dias_hospitalizacion_total\"],\n",
    "    )\n",
    "    .reset_index()\n",
    "    .fillna(0)\n",
    ")\n",
    "\n",
    "dias_hospitalizacion_total_anio_servicio_df.columns = [\n",
    "    \"_\".join(col).replace(\" \", \"_\").replace(\",\", \"\").lower() if col[1] else col[0]\n",
    "    for col in dias_hospitalizacion_total_anio_servicio_df.columns\n",
    "]\n",
    "\n",
    "dias_hospitalizacion_total_anio_servicio_df"
   ]
  },
  {
   "cell_type": "code",
   "execution_count": null,
   "metadata": {},
   "outputs": [],
   "source": [
    "dias_hospitalizacion_promedio_anio_servicio_df = (\n",
    "    top_k_grouped_df.pivot_table(\n",
    "        index=[\"año\", \"capitulo\", \"nombre_capitulo\"],\n",
    "        columns=[f\"top_{K}_dias_hospitalizacion_promedio_diagnostico\"],\n",
    "        values=[f\"top_{K}_dias_hospitalizacion_promedio\"],\n",
    "    )\n",
    "    .reset_index()\n",
    "    .fillna(0)\n",
    ")\n",
    "\n",
    "dias_hospitalizacion_promedio_anio_servicio_df.columns = [\n",
    "    \"_\".join(col).replace(\" \", \"_\").replace(\",\", \"\").lower() if col[1] else col[0]\n",
    "    for col in dias_hospitalizacion_promedio_anio_servicio_df.columns\n",
    "]\n",
    "\n",
    "dias_hospitalizacion_promedio_anio_servicio_df"
   ]
  },
  {
   "cell_type": "code",
   "execution_count": null,
   "metadata": {},
   "outputs": [],
   "source": [
    "final_df = pd.concat(\n",
    "    [\n",
    "        hospitalizaciones_anio_servicio_df,\n",
    "        dias_hospitalizacion_total_anio_servicio_df.iloc[:, 3:],\n",
    "        dias_hospitalizacion_promedio_anio_servicio_df.iloc[:, 3:],\n",
    "    ],\n",
    "    axis=1,\n",
    ")\n",
    "final_df"
   ]
  },
  {
   "cell_type": "code",
   "execution_count": null,
   "metadata": {},
   "outputs": [],
   "source": [
    "final_df.to_csv(\"../../datasets/egresos_hospitalarios.csv\", index=False)"
   ]
  }
 ],
 "metadata": {
  "accelerator": "GPU",
  "colab": {
   "gpuType": "A100",
   "machine_shape": "hm",
   "provenance": []
  },
  "kernelspec": {
   "display_name": "Python 3",
   "name": "python3"
  },
  "language_info": {
   "codemirror_mode": {
    "name": "ipython",
    "version": 3
   },
   "file_extension": ".py",
   "mimetype": "text/x-python",
   "name": "python",
   "nbconvert_exporter": "python",
   "pygments_lexer": "ipython3",
   "version": "3.12.2"
  }
 },
 "nbformat": 4,
 "nbformat_minor": 0
}
