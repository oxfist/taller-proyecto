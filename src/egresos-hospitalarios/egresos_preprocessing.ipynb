{
 "cells": [
  {
   "cell_type": "code",
   "execution_count": null,
   "metadata": {},
   "outputs": [],
   "source": [
    "%pip install pandas numpy matplotlib plotly seaborn openpyxl"
   ]
  },
  {
   "cell_type": "code",
   "execution_count": null,
   "metadata": {
    "colab": {
     "base_uri": "https://localhost:8080/"
    },
    "id": "jM0eqAwZQZkx",
    "outputId": "02085543-1264-4972-c063-c635f09cbd00"
   },
   "outputs": [],
   "source": [
    "import os\n",
    "import pandas as pd\n",
    "\n",
    "# import numpy as np\n",
    "# import matplotlib.pyplot as plt\n",
    "# import plotly as py\n",
    "# import plotly.graph_objs as go\n",
    "# import plotly.express as px\n",
    "# import seaborn as sns\n",
    "\n",
    "\n",
    "def get_egresos_csv_files(root_path):\n",
    "    csv_files = [\n",
    "        os.path.join(root_path, file)\n",
    "        for file in os.listdir(root_path)\n",
    "        if file.endswith(\".csv\")\n",
    "    ]\n",
    "    return sorted(csv_files)\n",
    "\n",
    "\n",
    "egresos_root_path = \"../../datasets/egresos-hospitalarios\"\n",
    "egresos_folders = sorted(os.listdir(egresos_root_path))\n",
    "egresos_csvs = get_egresos_csv_files(egresos_root_path)"
   ]
  },
  {
   "cell_type": "code",
   "execution_count": null,
   "metadata": {},
   "outputs": [],
   "source": [
    "egresos_df = pd.DataFrame()\n",
    "\n",
    "for csv_file in egresos_csvs:\n",
    "    egresos = pd.read_csv(\n",
    "        csv_file,\n",
    "        delimiter=\";\",\n",
    "        converters={\n",
    "            \"CONDICION_EGRESO\": lambda v: True if v == \"2\" else False,\n",
    "            \"INTERV_Q\": lambda v: True if v == \"1\" else False,\n",
    "            \"PROCED\": lambda v: True if v == \"1\" else False,\n",
    "        },\n",
    "    )\n",
    "    egresos.columns = egresos.columns.str.lower()\n",
    "    egresos.rename(\n",
    "        columns={\n",
    "            \"ano_egreso\": \"año\",\n",
    "            \"diag1\": \"diagnostico_principal\",\n",
    "            \"diag2\": \"causa_externa\",\n",
    "            \"dias_estada\": \"dias_hospitalizacion\",\n",
    "            \"interv_q\": \"intervencion_quirurgica\",\n",
    "            \"proced\": \"procedimiento\",\n",
    "            \"condicion_egreso\": \"egreso_muerte\",\n",
    "        },\n",
    "        inplace=True,\n",
    "    )\n",
    "\n",
    "    if \"glosa_interv_q_ppal\" in egresos.columns:\n",
    "        egresos.insert(\n",
    "            egresos.columns.get_loc(\"egreso_muerte\") + 1,\n",
    "            \"intervencion_quirurgica\",\n",
    "            None,\n",
    "        )\n",
    "        egresos[\"intervencion_quirurgica\"] = egresos[\"glosa_interv_q_ppal\"].notna()\n",
    "\n",
    "    if \"glosa_proced_ppal\" in egresos.columns:\n",
    "        egresos.insert(\n",
    "            egresos.columns.get_loc(\"intervencion_quirurgica\") + 1,\n",
    "            \"procedimiento\",\n",
    "            None,\n",
    "        )\n",
    "        egresos[\"procedimiento\"] = egresos[\"glosa_proced_ppal\"].notna()\n",
    "\n",
    "    if \"intervencion_quirurgica\" not in egresos.columns:\n",
    "        egresos.insert(\n",
    "            egresos.columns.get_loc(\"egreso_muerte\") + 1,\n",
    "            \"intervencion_quirurgica\",\n",
    "            None,\n",
    "        )\n",
    "\n",
    "    if \"procedimiento\" not in egresos.columns:\n",
    "        egresos.insert(\n",
    "            egresos.columns.get_loc(\"intervencion_quirurgica\") + 1,\n",
    "            \"procedimiento\",\n",
    "            None,\n",
    "        )\n",
    "\n",
    "    egresos.drop(\n",
    "        columns=[\n",
    "            \"pertenencia_establecimiento_salud\",\n",
    "            \"pertenencia_establecimiento_salu\",\n",
    "            \"prevision\",\n",
    "            \"glosa_prevision\",\n",
    "            \"region_residencia\",\n",
    "            \"glosa_region_residencia\",\n",
    "            \"sexo\",\n",
    "            \"glosa_interv_q_ppal\",\n",
    "            \"glosa_proced_ppal\",\n",
    "        ],\n",
    "        inplace=True,\n",
    "        errors=\"ignore\",\n",
    "    )\n",
    "    egresos[\"procedimiento\"] = egresos[\"procedimiento\"].astype(bool)\n",
    "    egresos[\"intervencion_quirurgica\"] = egresos[\"intervencion_quirurgica\"].astype(bool)\n",
    "    egresos_df = pd.concat([egresos_df, egresos], ignore_index=True)\n",
    "\n",
    "print(egresos_df[\"egreso_muerte\"].value_counts())\n",
    "print(egresos_df[\"intervencion_quirurgica\"].value_counts())\n",
    "print(egresos_df[\"procedimiento\"].value_counts())\n",
    "print(egresos_df.info())"
   ]
  },
  {
   "cell_type": "code",
   "execution_count": null,
   "metadata": {},
   "outputs": [],
   "source": [
    "egresos_df.head()"
   ]
  },
  {
   "cell_type": "code",
   "execution_count": null,
   "metadata": {},
   "outputs": [],
   "source": [
    "egresos_df[[\"diagnostico_principal\"]].value_counts(dropna=False)"
   ]
  },
  {
   "cell_type": "code",
   "execution_count": null,
   "metadata": {},
   "outputs": [],
   "source": [
    "diagnosticos = pd.read_excel(\n",
    "    \"../../datasets/egresos-hospitalarios/diccionario.xlsx\",\n",
    "    sheet_name=\"codigo CIE-10\",\n",
    "    skiprows=8,\n",
    ")\n",
    "diagnosticos.columns = diagnosticos.columns.str.lower().str.replace(\" \", \"_\")\n",
    "diagnosticos.head()"
   ]
  },
  {
   "cell_type": "code",
   "execution_count": null,
   "metadata": {},
   "outputs": [],
   "source": [
    "egresos_diag_df = pd.merge(\n",
    "    egresos_df,\n",
    "    diagnosticos.add_prefix(\"diagnostico_\"),\n",
    "    left_on=\"diagnostico_principal\",\n",
    "    right_on=\"diagnostico_codigo_subcategoria\",\n",
    ")\n",
    "print(egresos_diag_df.info())\n",
    "egresos_diag_df.head()"
   ]
  },
  {
   "cell_type": "code",
   "execution_count": null,
   "metadata": {},
   "outputs": [],
   "source": [
    "egresos_diag_df[[\"causa_externa\"]].isna().value_counts(dropna=False)"
   ]
  },
  {
   "cell_type": "code",
   "execution_count": null,
   "metadata": {},
   "outputs": [],
   "source": [
    "egresos_diag_causa_df = pd.merge(\n",
    "    egresos_diag_df,\n",
    "    diagnosticos.add_prefix(\"causa_externa_\"),\n",
    "    left_on=\"causa_externa\",\n",
    "    right_on=\"causa_externa_codigo_subcategoria\",\n",
    "    how=\"left\",\n",
    ")\n",
    "\n",
    "print(egresos_diag_causa_df.info())\n",
    "print(egresos_diag_causa_df.head())\n",
    "\n",
    "egresos_diag_causa_df[\"diagnostico_principal\"] = egresos_diag_causa_df[\n",
    "    \"diagnostico_glosa_subcategoria\"\n",
    "]\n",
    "egresos_diag_causa_df[\"causa_externa\"] = egresos_diag_causa_df[\n",
    "    \"causa_externa_glosa_subcategoria\"\n",
    "]"
   ]
  },
  {
   "cell_type": "code",
   "execution_count": null,
   "metadata": {},
   "outputs": [],
   "source": [
    "print(\"isna?\", egresos_diag_causa_df[[\"diagnostico_principal\"]].isna().value_counts())\n",
    "print(\"isna?\", egresos_diag_causa_df[[\"causa_externa\"]].isna().value_counts())"
   ]
  },
  {
   "cell_type": "code",
   "execution_count": null,
   "metadata": {},
   "outputs": [],
   "source": [
    "egresos_diag_causa_df.drop(\n",
    "    columns=[\n",
    "        \"diagnostico_codigo_subcategoria\",\n",
    "        \"diagnostico_glosa_subcategoria\",\n",
    "        \"diagnostico_capitulo\",\n",
    "        \"diagnostico_codigo_grupo_\",\n",
    "        \"diagnostico_codigo_categoria\",\n",
    "        \"causa_externa_codigo_subcategoria\",\n",
    "        \"causa_externa_glosa_subcategoria\",\n",
    "        \"causa_externa_capitulo\",\n",
    "        \"causa_externa_codigo_grupo_\",\n",
    "        \"causa_externa_codigo_categoria\",\n",
    "    ],\n",
    "    inplace=True,\n",
    "    errors=\"ignore\",\n",
    ")"
   ]
  },
  {
   "cell_type": "code",
   "execution_count": null,
   "metadata": {},
   "outputs": [],
   "source": [
    "egresos_diag_causa_df.info()"
   ]
  },
  {
   "cell_type": "code",
   "execution_count": null,
   "metadata": {},
   "outputs": [],
   "source": [
    "egresos_diag_causa_df[[\"comuna_residencia\"]].isna().value_counts()"
   ]
  },
  {
   "cell_type": "code",
   "execution_count": null,
   "metadata": {},
   "outputs": [],
   "source": [
    "%run ../load_comunas_servicios.py \"../../datasets/comunas_por_zona.csv\"\n",
    "\n",
    "comunas_servicios_df.rename(columns={\"zona_id\": \"capitulo\", \"zona\": \"nombre_capitulo\"}, inplace=True)\n",
    "print(comunas_servicios_df.info())\n",
    "comunas_servicios_df.head()"
   ]
  },
  {
   "cell_type": "code",
   "execution_count": null,
   "metadata": {},
   "outputs": [],
   "source": [
    "comunas_servicios_df[comunas_servicios_df[\"comuna\"] == \"Chaitén\"]"
   ]
  },
  {
   "cell_type": "code",
   "execution_count": null,
   "metadata": {},
   "outputs": [],
   "source": [
    "egresos_diag_causa_df = pd.merge(\n",
    "    egresos_diag_causa_df,\n",
    "    comunas_servicios_df[[\"capitulo\", \"nombre_capitulo\", \"comuna_id\"]],  # type: ignore\n",
    "    left_on=\"comuna_residencia\",\n",
    "    right_on=\"comuna_id\",\n",
    "    how=\"left\",\n",
    ")"
   ]
  },
  {
   "cell_type": "code",
   "execution_count": null,
   "metadata": {},
   "outputs": [],
   "source": [
    "print(egresos_diag_causa_df[[\"capitulo\"]].isna().value_counts())\n",
    "egresos_diag_causa_df[egresos_diag_causa_df[\"capitulo\"].isna()]"
   ]
  },
  {
   "cell_type": "code",
   "execution_count": null,
   "metadata": {},
   "outputs": [],
   "source": [
    "print(\n",
    "    egresos_diag_causa_df[egresos_diag_causa_df[\"capitulo\"].isna()][\n",
    "        \"comuna_residencia\"\n",
    "    ].unique()\n",
    ")\n",
    "print(\n",
    "    egresos_diag_causa_df[egresos_diag_causa_df[\"capitulo\"].isna()][\n",
    "        \"glosa_comuna_residencia\"\n",
    "    ].unique()\n",
    ")"
   ]
  },
  {
   "cell_type": "code",
   "execution_count": null,
   "metadata": {},
   "outputs": [],
   "source": [
    "missing_capitulos = egresos_diag_causa_df[egresos_diag_causa_df[\"capitulo\"].isna()][\n",
    "    [\"comuna_residencia\", \"glosa_comuna_residencia\"]\n",
    "]\n",
    "missing_capitulos.value_counts()"
   ]
  },
  {
   "cell_type": "code",
   "execution_count": null,
   "metadata": {},
   "outputs": [],
   "source": [
    "egresos_diag_causa_df.drop(\n",
    "    columns=[\"comuna_id\", \"comuna_residencia\", \"glosa_comuna_residencia\"],\n",
    "    inplace=True,\n",
    "    errors=\"ignore\",\n",
    ")\n",
    "\n",
    "egresos_diag_causa_df.head()"
   ]
  },
  {
   "cell_type": "code",
   "execution_count": null,
   "metadata": {
    "id": "O1SkPvhyEhO2"
   },
   "outputs": [],
   "source": [
    "# Ruta al archivo Excel en Google Drive\n",
    "path_comunas = \"/content/drive/MyDrive/TallerProyecto-Grupo2/datos/\"\n",
    "\n",
    "# Leer el archivo Excel\n",
    "df_comunas = pd.read_csv(os.path.join(path_comunas, \"ZONA_COMUNA.csv\"), sep=\";\")\n",
    "df_comunas[\"comuna\"] = [\n",
    "    \"Peñalolén\" if x == \"Peñalolen\" else x for x in df_comunas[\"comuna\"]\n",
    "]\n",
    "# Mostrar el DataFrame<"
   ]
  },
  {
   "cell_type": "code",
   "execution_count": null,
   "metadata": {
    "id": "1LV6xQt9H4Gz"
   },
   "outputs": [],
   "source": [
    "df_egresos = df_egresos.merge(\n",
    "    df_comunas, left_on=\"glosa_comuna_residencia\", right_on=\"comuna\", how=\"left\"\n",
    ")\n",
    "df_egresos.pop(\"comuna\")\n",
    "df_egresos.rename(\n",
    "    columns={\"zona\": \"servicio_salud\", \"zona_id\": \"id_servicio_salud\"}, inplace=True\n",
    ")\n",
    "df_egresos = df_egresos[\n",
    "    [\n",
    "        \"ano_egreso\",\n",
    "        \"id_servicio_salud\",\n",
    "        \"servicio_salud\",\n",
    "        \"comuna_residencia\",\n",
    "        \"glosa_comuna_residencia\",\n",
    "        \"sexo\",\n",
    "        \"grupo_edad\",\n",
    "        \"prevision\",\n",
    "        \"glosa_prevision\",\n",
    "        \"diag1\",\n",
    "        \"diag2\",\n",
    "        \"dias_estad\",\n",
    "        \"condicion_egreso\",\n",
    "    ]\n",
    "]\n",
    "df_egresos.columns = [col.lower() for col in df_egresos.columns]\n",
    "\n",
    "\n",
    "# df_egresos.to_csv('/content/drive/MyDrive/TallerProyecto-Grupo2/datos/egresos.csv', index=False)"
   ]
  },
  {
   "cell_type": "code",
   "execution_count": null,
   "metadata": {
    "id": "6-5oM7e5l5Zz"
   },
   "outputs": [],
   "source": [
    "diagnosticos = pd.read_csv(\n",
    "    \"/content/drive/MyDrive/TallerProyecto-Grupo2/datos/enfermedades.csv\",\n",
    "    sep=\",\",\n",
    "    encoding=\"utf-8\",\n",
    "    header=None,\n",
    ")\n",
    "diagnosticos = diagnosticos.rename(\n",
    "    columns={0: \"diag1\", 1: \"subdiag\", 2: \"diag2\", 3: \"def1\", 4: \"def2\", 5: \"def\"}\n",
    ")"
   ]
  },
  {
   "cell_type": "code",
   "execution_count": null,
   "metadata": {
    "colab": {
     "base_uri": "https://localhost:8080/",
     "height": 310
    },
    "id": "BTDj5XDHpy6e",
    "outputId": "4680671f-a3f9-44df-ba85-1a1476165c30"
   },
   "outputs": [],
   "source": [
    "df_egresos_def = pd.merge(\n",
    "    df_egresos,\n",
    "    diagnosticos[[\"diag1\", \"def\"]].drop_duplicates(),\n",
    "    left_on=\"diag1\",\n",
    "    right_on=\"diag1\",\n",
    "    how=\"left\",\n",
    ")\n",
    "df_egresos_def = pd.merge(\n",
    "    df_egresos_def,\n",
    "    diagnosticos[[\"diag2\", \"def\"]].drop_duplicates(),\n",
    "    left_on=\"diag1\",\n",
    "    right_on=\"diag2\",\n",
    "    how=\"left\",\n",
    ")\n",
    "df_egresos_def[\"def\"] = [\n",
    "    x if pd.notna(x) else y\n",
    "    for x, y in zip(df_egresos_def[\"def_x\"], df_egresos_def[\"def_y\"])\n",
    "]\n",
    "df_egresos_def.pop(\"def_x\")\n",
    "df_egresos_def.pop(\"def_y\")\n",
    "df_egresos_def.pop(\"diag2_y\")\n",
    "df_egresos_def.rename(columns={\"diag2_x\": \"diag2\"}, inplace=True)\n",
    "display(df_egresos_def.head())"
   ]
  },
  {
   "cell_type": "code",
   "execution_count": null,
   "metadata": {
    "id": "Be-1XoX2DfIu"
   },
   "outputs": [],
   "source": [
    "df_egresos_def_2 = df_egresos_def[\n",
    "    (df_egresos_def[\"prevision\"] == 1) & (df_egresos_def[\"def\"].notna())\n",
    "]\n",
    "\n",
    "########analisis dias estadia servicio###########\n",
    "df_egresos_def_dias_estad = (\n",
    "    df_egresos_def_2[\n",
    "        [\n",
    "            \"ano_egreso\",\n",
    "            \"id_servicio_salud\",\n",
    "            \"servicio_salud\",\n",
    "            \"diag1\",\n",
    "            \"def\",\n",
    "            \"dias_estad\",\n",
    "        ]\n",
    "    ]\n",
    "    .groupby([\"ano_egreso\", \"id_servicio_salud\", \"servicio_salud\", \"diag1\", \"def\"])\n",
    "    .mean(\"dias_estad\")\n",
    "    .reset_index()\n",
    ")\n",
    "#######analisis dias estadia enfermedad servicio\n",
    "\n",
    "########analisis dias estadia###########\n",
    "df_egresos_def_dias_estad = df_egresos_def_2.groupby(\n",
    "    [\"ano_egreso\", \"id_servicio_salud\", \"servicio_salud\", \"diag1\", \"def\"],\n",
    "    as_index=False,\n",
    ").agg({\"dias_estad\": \"mean\"})\n",
    "########analisis dias estadia###########"
   ]
  },
  {
   "cell_type": "code",
   "execution_count": null,
   "metadata": {
    "id": "btqDlriQbS3L"
   },
   "outputs": [],
   "source": [
    "###Estudio de enfermedades mas complejas estadia hospitalaria###\n",
    "\n",
    "cantidad_casos = (\n",
    "    df_egresos_def_dias_estad.groupby(\n",
    "        [\"ano_egreso\", \"id_servicio_salud\", \"servicio_salud\", \"def\"]\n",
    "    )\n",
    "    .size()\n",
    "    .reset_index(name=\"cantidad\")\n",
    ")\n",
    "cantidad_casos[\"def\"] = cantidad_casos[\"def\"].str.strip()\n",
    "\n",
    "df_egresos_def_dias_estad = df_egresos_def_dias_estad.apply(\n",
    "    lambda x: x.strip() if type(x) == str else x\n",
    ")\n",
    "\n",
    "enfermedades_mayor_estadia = (\n",
    "    df_egresos_def_dias_estad.groupby(\n",
    "        [\"ano_egreso\", \"id_servicio_salud\", \"servicio_salud\", \"def\"], as_index=False\n",
    "    )\n",
    "    .agg({\"dias_estad\": \"mean\"})\n",
    "    .sort_values(\n",
    "        by=[\"ano_egreso\", \"id_servicio_salud\", \"servicio_salud\", \"dias_estad\"],\n",
    "        ascending=False,\n",
    "    )\n",
    ")\n",
    "\n",
    "enfermedades_mayor_estadia_frec = pd.merge(\n",
    "    enfermedades_mayor_estadia,\n",
    "    cantidad_casos,\n",
    "    left_on=[\"ano_egreso\", \"id_servicio_salud\", \"servicio_salud\", \"def\"],\n",
    "    right_on=[\"ano_egreso\", \"id_servicio_salud\", \"servicio_salud\", \"def\"],\n",
    "    how=\"left\",\n",
    ")\n",
    "enfermedades_mayor_estadia_frec[\"dias_cama\"] = (\n",
    "    enfermedades_mayor_estadia_frec[\"dias_estad\"]\n",
    "    * enfermedades_mayor_estadia_frec[\"cantidad\"]\n",
    ")\n",
    "enfermedades_mayor_estadia_frec = enfermedades_mayor_estadia_frec.sort_values(\n",
    "    by=[\"ano_egreso\", \"id_servicio_salud\", \"cantidad\"], ascending=False\n",
    ")"
   ]
  },
  {
   "cell_type": "code",
   "execution_count": null,
   "metadata": {
    "colab": {
     "base_uri": "https://localhost:8080/",
     "height": 424
    },
    "id": "AXpbW-wlrBCB",
    "outputId": "6d1e280a-21f6-4cf8-fecf-3d7cf10bb4fa"
   },
   "outputs": [],
   "source": [
    "top_10_por_servicio = []\n",
    "for csv_file in enfermedades_mayor_estadia_frec[\"ano_egreso\"].unique():\n",
    "    for servicio in enfermedades_mayor_estadia_frec[\"servicio_salud\"].unique():\n",
    "        top_10_por_servicio.append(\n",
    "            enfermedades_mayor_estadia_frec[\n",
    "                (enfermedades_mayor_estadia_frec[\"ano_egreso\"] == csv_file)\n",
    "                & (enfermedades_mayor_estadia_frec[\"servicio_salud\"] == servicio)\n",
    "            ].head(10)\n",
    "        )\n",
    "\n",
    "df_enfermedades = pd.concat(top_10_por_servicio)\n",
    "\n",
    "df_enfermedades"
   ]
  },
  {
   "cell_type": "code",
   "execution_count": null,
   "metadata": {
    "id": "-DCg27QeDi_8"
   },
   "outputs": [],
   "source": [
    "df_enfermedades_dias_estad = df_enfermedades[\n",
    "    [\"ano_egreso\", \"id_servicio_salud\", \"servicio_salud\", \"def\", \"dias_estad\"]\n",
    "]\n",
    "lista_enfermedades = df_enfermedades[\"def\"].to_list()\n",
    "enfermedades = pd.DataFrame(lista_enfermedades, columns=[\"def\"])"
   ]
  },
  {
   "cell_type": "code",
   "execution_count": null,
   "metadata": {
    "colab": {
     "base_uri": "https://localhost:8080/",
     "height": 424
    },
    "id": "vznXZ3Zi-d6Q",
    "outputId": "d298a3f9-b32b-49c3-cb17-52995d1f6759"
   },
   "outputs": [],
   "source": [
    "df_egresos_def_dias_estad = df_egresos_def_dias_estad[\n",
    "    [\"ano_egreso\", \"id_servicio_salud\", \"servicio_salud\", \"def\", \"dias_estad\"]\n",
    "]\n",
    "df_egresos_def_dias_estad = (\n",
    "    df_egresos_def_dias_estad.groupby(\n",
    "        [\"ano_egreso\", \"id_servicio_salud\", \"servicio_salud\", \"def\"], as_index=False\n",
    "    )\n",
    "    .mean(\"dias_estad\")\n",
    "    .reset_index(drop=True)\n",
    ")\n",
    "df_egresos_def_dias_estad"
   ]
  },
  {
   "cell_type": "code",
   "execution_count": null,
   "metadata": {
    "colab": {
     "base_uri": "https://localhost:8080/",
     "height": 424
    },
    "id": "aws34m_d_sFf",
    "outputId": "1b91b526-617f-44bd-8cc2-172ddda75742"
   },
   "outputs": [],
   "source": [
    "servicio_salud = df_egresos_def_dias_estad[\n",
    "    [\"ano_egreso\", \"id_servicio_salud\", \"servicio_salud\"]\n",
    "].drop_duplicates()\n",
    "\n",
    "servicio_enfermedades = pd.merge(servicio_salud, enfermedades, how=\"cross\")\n",
    "\n",
    "# servicio_enfermedades\n",
    "# df_egresos_def_dias_estad\n",
    "df_enfermedades_dias_estad = pd.merge(\n",
    "    servicio_enfermedades,\n",
    "    df_egresos_def_dias_estad,\n",
    "    left_on=[\"ano_egreso\", \"id_servicio_salud\", \"servicio_salud\", \"def\"],\n",
    "    right_on=[\"ano_egreso\", \"id_servicio_salud\", \"servicio_salud\", \"def\"],\n",
    "    how=\"left\",\n",
    ")\n",
    "df_enfermedades_dias_estad = df_enfermedades_dias_estad.fillna(0)\n",
    "df_enfermedades_dias_estad"
   ]
  },
  {
   "cell_type": "code",
   "execution_count": null,
   "metadata": {
    "colab": {
     "base_uri": "https://localhost:8080/",
     "height": 842
    },
    "id": "RrK-0obACtV4",
    "outputId": "53925929-4de3-4d6a-d958-68313801df40"
   },
   "outputs": [],
   "source": [
    "diagnosticos_frecuentes_pivot_dias_estad = df_enfermedades_dias_estad.pivot_table(\n",
    "    index=[\"ano_egreso\", \"id_servicio_salud\", \"servicio_salud\"],\n",
    "    columns=\"def\",\n",
    "    values=[\"dias_estad\"],\n",
    "    aggfunc=\"mean\",  # Puedes usar 'mean', 'max', 'min', etc., dependiendo de tus necesidades\n",
    "    fill_value=0,  # Esto reemplaza los NaN por 0\n",
    ").reset_index()\n",
    "\n",
    "\n",
    "# Desagrupar los índices de las columnas\n",
    "diagnosticos_frecuentes_pivot_dias_estad.columns = [\n",
    "    \"_\".join(col).strip() if isinstance(col, tuple) else col\n",
    "    for col in diagnosticos_frecuentes_pivot_dias_estad.columns\n",
    "]\n",
    "diagnosticos_frecuentes_pivot_dias_estad.columns.values[0] = \"ano_egreso\"\n",
    "diagnosticos_frecuentes_pivot_dias_estad.columns.values[1] = \"id_servicio_salud\"\n",
    "diagnosticos_frecuentes_pivot_dias_estad.columns.values[2] = \"servicio_salud\"\n",
    "\n",
    "display(diagnosticos_frecuentes_pivot_dias_estad)\n",
    "diagnosticos_frecuentes_pivot_dias_estad.to_csv(\n",
    "    \"/content/drive/MyDrive/TallerProyecto-Grupo2/datos/dfegresosdiasestad.csv\",\n",
    "    index=False,\n",
    "    sep=\";\",\n",
    "    encoding=\"latin-1\",\n",
    ")"
   ]
  },
  {
   "cell_type": "code",
   "execution_count": null,
   "metadata": {
    "colab": {
     "base_uri": "https://localhost:8080/",
     "height": 877
    },
    "id": "gSsF4R0moxoq",
    "outputId": "331a0e0f-be4b-44a9-a8ba-41293c4f97aa"
   },
   "outputs": [],
   "source": [
    "df_egresos_def_cantidad = (\n",
    "    df_egresos_def_2.groupby(\n",
    "        [\"ano_egreso\", \"id_servicio_salud\", \"servicio_salud\", \"def\"]\n",
    "    )\n",
    "    .size()\n",
    "    .reset_index(name=\"cantidad\")\n",
    ")\n",
    "\n",
    "df_enfermedades_cantidad = pd.merge(\n",
    "    df_egresos_def_cantidad,\n",
    "    df_enfermedades_dias_estad,\n",
    "    left_on=[\"ano_egreso\", \"id_servicio_salud\", \"servicio_salud\", \"def\"],\n",
    "    right_on=[\"ano_egreso\", \"id_servicio_salud\", \"servicio_salud\", \"def\"],\n",
    "    how=\"inner\",\n",
    ")\n",
    "\n",
    "# df_enfermedades_cantidad.to_csv('/content/drive/MyDrive/TallerProyecto-Grupo2/datos/dfcantidaddecasos.csv', index=False,sep =';',encoding = 'latin-1')\n",
    "diagnosticos_frecuentes_pivot_casos = df_enfermedades_cantidad.pivot_table(\n",
    "    index=[\"ano_egreso\", \"id_servicio_salud\", \"servicio_salud\"],\n",
    "    columns=\"def\",\n",
    "    values=[\"cantidad\"],\n",
    "    aggfunc=\"sum\",  # Puedes usar 'mean', 'max', 'min', etc., dependiendo de tus necesidades\n",
    "    fill_value=0,  # Esto reemplaza los NaN por 0\n",
    ").reset_index()\n",
    "\n",
    "\n",
    "# Desagrupar los índices de las columnas\n",
    "diagnosticos_frecuentes_pivot_casos.columns = [\n",
    "    \"_\".join(col).strip() if isinstance(col, tuple) else col\n",
    "    for col in diagnosticos_frecuentes_pivot_casos.columns\n",
    "]\n",
    "diagnosticos_frecuentes_pivot_casos.columns.values[0] = \"ano_egreso\"\n",
    "diagnosticos_frecuentes_pivot_casos.columns.values[1] = \"id_servicio_salud\"\n",
    "diagnosticos_frecuentes_pivot_casos.columns.values[2] = \"servicio_salud\"\n",
    "diagnosticos_frecuentes_pivot_casos.columns = [\n",
    "    x.replace(\"cantidad_\", \"\")\n",
    "    for x in diagnosticos_frecuentes_pivot_casos.columns.to_list()\n",
    "]\n",
    "\n",
    "# for col in diagnosticos_frecuentes_pivot_casos.columns.to_list()[3:]:\n",
    "#   if len(diagnosticos_frecuentes_pivot_casos[diagnosticos_frecuentes_pivot_casos[col]==0][col])/len(diagnosticos_frecuentes_pivot_casos[col])>=0.7:\n",
    "#     diagnosticos_frecuentes_pivot_casos.pop(col)\n",
    "\n",
    "diagnosticos_frecuentes_pivot_casos.columns.values[3:] = [\n",
    "    \"casos_\" + x for x in diagnosticos_frecuentes_pivot_casos.columns.to_list()[3:]\n",
    "]\n",
    "\n",
    "\n",
    "dfEgresosConsolidados = pd.merge(\n",
    "    diagnosticos_frecuentes_pivot_dias_estad,\n",
    "    diagnosticos_frecuentes_pivot_casos,\n",
    "    left_on=[\"ano_egreso\", \"id_servicio_salud\", \"servicio_salud\"],\n",
    "    right_on=[\"ano_egreso\", \"id_servicio_salud\", \"servicio_salud\"],\n",
    "    how=\"left\",\n",
    ")\n",
    "dfEgresosConsolidados.to_csv(\n",
    "    \"/content/drive/MyDrive/TallerProyecto-Grupo2/datos/dfEgresosConsolidados.csv\",\n",
    "    index=False,\n",
    "    sep=\";\",\n",
    "    encoding=\"latin-1\",\n",
    ")\n",
    "dfEgresosConsolidados"
   ]
  },
  {
   "cell_type": "code",
   "execution_count": null,
   "metadata": {
    "colab": {
     "base_uri": "https://localhost:8080/",
     "height": 1000
    },
    "id": "SkuP9mBmFj7N",
    "outputId": "9671aceb-ae4d-4467-e005-8dafca20dd31"
   },
   "outputs": [],
   "source": [
    "casen = pd.read_csv(\n",
    "    \"/content/drive/MyDrive/TallerProyecto-Grupo2/datos/casen_2017_2022_fonasa.csv\",\n",
    "    sep=\",\",\n",
    "    encoding=\"utf-8\",\n",
    ")\n",
    "\n",
    "total_fonasa = (\n",
    "    casen.groupby([\"capitulo\", \"nombre_capitulo\"])\n",
    "    .agg({\"total_fonasa\": \"mean\"})\n",
    "    .reset_index()\n",
    ")\n",
    "total_fonasa = total_fonasa.rename(\n",
    "    columns={\"capitulo\": \"id_servicio_salud\", \"nombre_capitulo\": \"servicio_salud\"}\n",
    ")\n",
    "\n",
    "casen = casen.rename(\n",
    "    columns={\"capitulo\": \"id_servicio_salud\", \"nombre_capitulo\": \"servicio_salud\"}\n",
    ")\n",
    "\n",
    "casen = casen[\n",
    "    [\"id_servicio_salud\", \"servicio_salud\"]\n",
    "    + [x for x in casen.columns.to_list() if \"porcentaje\" in x]\n",
    "]\n",
    "casen = casen.groupby([\"id_servicio_salud\", \"servicio_salud\"]).mean().reset_index()\n",
    "casen"
   ]
  },
  {
   "cell_type": "code",
   "execution_count": null,
   "metadata": {
    "colab": {
     "base_uri": "https://localhost:8080/",
     "height": 652
    },
    "id": "cWGoe5Gng0wn",
    "outputId": "62d78f59-011b-4f3c-a312-493faea23288"
   },
   "outputs": [],
   "source": [
    "dfconsolidado = pd.merge(\n",
    "    total_fonasa,\n",
    "    diagnosticos_frecuentes_pivot_casos,\n",
    "    left_on=[\"id_servicio_salud\", \"servicio_salud\"],\n",
    "    right_on=[\"id_servicio_salud\", \"servicio_salud\"],\n",
    "    how=\"left\",\n",
    ")\n",
    "dfconsolidado[dfconsolidado.columns[4:]] = dfconsolidado[dfconsolidado.columns[4:]].div(\n",
    "    dfconsolidado[\"total_fonasa\"], axis=0\n",
    ")\n",
    "dfconsolidado = pd.merge(\n",
    "    dfconsolidado,\n",
    "    diagnosticos_frecuentes_pivot_dias_estad,\n",
    "    left_on=[\"ano_egreso\", \"id_servicio_salud\", \"servicio_salud\"],\n",
    "    right_on=[\"ano_egreso\", \"id_servicio_salud\", \"servicio_salud\"],\n",
    "    how=\"left\",\n",
    ")\n",
    "dfconsolidado.pop(\"total_fonasa\")\n",
    "dfconsolidado = dfconsolidado.fillna(0)\n",
    "dfconsolidado.to_csv(\n",
    "    \"/content/drive/MyDrive/TallerProyecto-Grupo2/datos/dfconsolidado.csv\",\n",
    "    index=False,\n",
    "    sep=\";\",\n",
    "    encoding=\"latin-1\",\n",
    ")\n",
    "dfconsolidado"
   ]
  },
  {
   "cell_type": "code",
   "execution_count": null,
   "metadata": {
    "colab": {
     "base_uri": "https://localhost:8080/",
     "height": 842
    },
    "id": "LkovX5V5i4Ok",
    "outputId": "976c4649-f6cb-42ce-ea9d-2551770d26a6"
   },
   "outputs": [],
   "source": [
    "presupuesto = pd.read_csv(\n",
    "    \"/content/drive/MyDrive/TallerProyecto-Grupo2/datos/pagos_salud_chile_2018-2024.csv\",\n",
    "    sep=\",\",\n",
    "    encoding=\"utf-8\",\n",
    ")\n",
    "presupuesto = (\n",
    "    presupuesto.groupby([\"año\", \"capitulo\", \"nombre_capitulo\", \"nombre_subtitulo\"])\n",
    "    .agg({\"devengo\": \"sum\"})\n",
    "    .reset_index()\n",
    ")\n",
    "presupuesto = presupuesto.rename(\n",
    "    columns={\n",
    "        \"capitulo\": \"id_servicio_salud\",\n",
    "        \"nombre_capitulo\": \"servicio_salud\",\n",
    "        \"año\": \"ano_egreso\",\n",
    "    }\n",
    ")\n",
    "presupuesto = presupuesto.pivot_table(\n",
    "    index=[\"ano_egreso\", \"id_servicio_salud\", \"servicio_salud\"],\n",
    "    columns=\"nombre_subtitulo\",\n",
    "    values=\"devengo\",\n",
    "    aggfunc=\"sum\",\n",
    ").reset_index()\n",
    "presupuesto[presupuesto.columns[3:]] = presupuesto[presupuesto.columns[3:]] / 1000000\n",
    "\n",
    "presupuesto"
   ]
  },
  {
   "cell_type": "code",
   "execution_count": null,
   "metadata": {
    "colab": {
     "base_uri": "https://localhost:8080/",
     "height": 842
    },
    "id": "CGIBCkIfo7WF",
    "outputId": "050aafa1-9920-4e31-aa6b-19e1276f23c6"
   },
   "outputs": [],
   "source": [
    "dfconsolidado = pd.merge(\n",
    "    presupuesto,\n",
    "    dfconsolidado,\n",
    "    left_on=[\"ano_egreso\", \"id_servicio_salud\", \"servicio_salud\"],\n",
    "    right_on=[\"ano_egreso\", \"id_servicio_salud\", \"servicio_salud\"],\n",
    "    how=\"left\",\n",
    ")\n",
    "dfconsolidado = dfconsolidado[dfconsolidado[\"ano_egreso\"] < 2024]\n",
    "dfconsolidado = pd.merge(\n",
    "    dfconsolidado,\n",
    "    casen,\n",
    "    left_on=[\"id_servicio_salud\", \"servicio_salud\"],\n",
    "    right_on=[\"id_servicio_salud\", \"servicio_salud\"],\n",
    "    how=\"left\",\n",
    ")\n",
    "dfconsolidado"
   ]
  },
  {
   "cell_type": "code",
   "execution_count": null,
   "metadata": {
    "colab": {
     "base_uri": "https://localhost:8080/",
     "height": 790
    },
    "id": "YNUxJJ-W2p9_",
    "outputId": "d588a94b-82ae-46d3-e17d-1e1c8c2a70a0"
   },
   "outputs": [],
   "source": [
    "dfconsolidado[dfconsolidado.columns[3:13]] = dfconsolidado[\n",
    "    dfconsolidado.columns[3:13]\n",
    "].div(dfconsolidado[\"total_fonasa\"], axis=0)\n",
    "dfconsolidado = dfconsolidado.fillna(0)\n",
    "dfconsolidado.columns = dfconsolidado.columns.str.replace(\"\\n\", \"\").str.replace(\n",
    "    \" \", \"_\"\n",
    ")\n",
    "dfconsolidado"
   ]
  },
  {
   "cell_type": "code",
   "execution_count": null,
   "metadata": {
    "colab": {
     "base_uri": "https://localhost:8080/",
     "height": 877
    },
    "id": "U8LBnl17r4me",
    "outputId": "5cf250ad-f5c4-4898-f089-f97e0deef2c7"
   },
   "outputs": [],
   "source": [
    "###comienzo proceso de clusterizacion\n",
    "import numpy as np\n",
    "from sklearn.model_selection import train_test_split\n",
    "\n",
    "dataset = dfconsolidado.copy()\n",
    "dataset = dataset[dataset.columns[3:]]\n",
    "\n",
    "\n",
    "from sklearn.cluster import KMeans\n",
    "\n",
    "kmeans = KMeans(n_clusters=3, random_state=42, n_init=\"auto\")\n",
    "kmeans = kmeans.fit(dataset)\n",
    "\n",
    "print(kmeans.labels_)\n",
    "\n",
    "dfconsolidado[\"clasificacion\"] = kmeans.labels_\n",
    "\n",
    "cluster = []\n",
    "for x in dfconsolidado[\"clasificacion\"]:\n",
    "    if x == 0:\n",
    "        cluster.append(\"medio\")\n",
    "    elif x == 1:\n",
    "        cluster.append(\"bueno\")\n",
    "    else:\n",
    "        cluster.append(\"malo\")\n",
    "\n",
    "dfconsolidado[\"clasificacion\"] = cluster\n",
    "\n",
    "dfconsolidado"
   ]
  }
 ],
 "metadata": {
  "accelerator": "GPU",
  "colab": {
   "gpuType": "A100",
   "machine_shape": "hm",
   "provenance": []
  },
  "kernelspec": {
   "display_name": "Python 3",
   "name": "python3"
  },
  "language_info": {
   "codemirror_mode": {
    "name": "ipython",
    "version": 3
   },
   "file_extension": ".py",
   "mimetype": "text/x-python",
   "name": "python",
   "nbconvert_exporter": "python",
   "pygments_lexer": "ipython3",
   "version": "3.12.2"
  }
 },
 "nbformat": 4,
 "nbformat_minor": 0
}
