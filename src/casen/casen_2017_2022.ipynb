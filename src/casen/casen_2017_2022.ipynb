{
 "cells": [
  {
   "cell_type": "code",
   "execution_count": null,
   "metadata": {},
   "outputs": [],
   "source": [
    "%pip install pandas"
   ]
  },
  {
   "cell_type": "code",
   "execution_count": null,
   "metadata": {},
   "outputs": [],
   "source": [
    "%run ../load_comunas_servicios.py \"../../datasets/comunas_por_zona.csv\"\n",
    "\n",
    "comunas_servicios_df.rename(columns={\"zona_id\": \"capitulo\", \"zona\": \"nombre_capitulo\"}, inplace=True)\n",
    "print(comunas_servicios_df.info())\n",
    "comunas_servicios_df.head()"
   ]
  },
  {
   "cell_type": "markdown",
   "metadata": {},
   "source": [
    "## CASEN 2017\n"
   ]
  },
  {
   "cell_type": "code",
   "execution_count": null,
   "metadata": {},
   "outputs": [],
   "source": [
    "import pandas as pd\n",
    "\n",
    "FONASA_A = 1\n",
    "FONASA_B = 2\n",
    "FONASA_C = 3\n",
    "FONASA_D = 4\n",
    "FONASA_NO_SABE = 5\n",
    "FONASA_GRUPOS = [FONASA_A, FONASA_B, FONASA_C, FONASA_D, FONASA_NO_SABE]\n",
    "PREGUNTA_PREVISION = \"s12\"\n",
    "SI = 1\n",
    "NO = 2\n",
    "NS = 9\n",
    "NR = 9\n",
    "FACTOR_EXPANSION_REGIONAL = \"expr\"\n",
    "PROBLEMAS_LLEGAR_CONSULTA = \"s18a\"\n",
    "PROBLEMAS_CONSEGUIR_CITA = \"s18b\"\n",
    "PROBLEMAS_SER_ATENDIDO = \"s18c\"\n",
    "PROBLEMAS_PAGAR_POR_COSTO = \"s18d\"\n",
    "PROBLEMAS_ENTREGA_MEDICAMENTOS = \"s18e\"\n",
    "\n",
    "\n",
    "casen_2017_df = pd.read_csv(\n",
    "    \"../../datasets/casen/casen_2017.csv\",\n",
    "    sep=\",\",\n",
    "    dtype={\"expr\": \"int\", \"expc\": \"int\", \"comuna\": \"int\"},\n",
    "    converters={\n",
    "        \"folio\": lambda folio: folio.split(\".\")[0],\n",
    "        \"id_vivienda\": lambda id: id.split(\".\")[0],\n",
    "    },\n",
    ")\n",
    "casen_2017_df.drop(columns=[\"zona\"], inplace=True)\n",
    "\n",
    "print(len(casen_2017_df))\n",
    "casen_2017_df.head()"
   ]
  },
  {
   "cell_type": "code",
   "execution_count": null,
   "metadata": {},
   "outputs": [],
   "source": [
    "casen_2017_df.info()"
   ]
  },
  {
   "cell_type": "code",
   "execution_count": null,
   "metadata": {},
   "outputs": [],
   "source": [
    "print(len(casen_2017_df))"
   ]
  },
  {
   "cell_type": "code",
   "execution_count": null,
   "metadata": {},
   "outputs": [],
   "source": [
    "casen_2017_df[\"folio\"].value_counts()"
   ]
  },
  {
   "cell_type": "code",
   "execution_count": null,
   "metadata": {},
   "outputs": [],
   "source": [
    "casen_2017_df = casen_2017_df[casen_2017_df[PREGUNTA_PREVISION].isin(FONASA_GRUPOS)]"
   ]
  },
  {
   "cell_type": "code",
   "execution_count": null,
   "metadata": {},
   "outputs": [],
   "source": [
    "casen_2017_df[\"comuna\"].value_counts()"
   ]
  },
  {
   "cell_type": "code",
   "execution_count": null,
   "metadata": {},
   "outputs": [],
   "source": [
    "casen_2017_df[PROBLEMAS_LLEGAR_CONSULTA].value_counts()"
   ]
  },
  {
   "cell_type": "code",
   "execution_count": null,
   "metadata": {},
   "outputs": [],
   "source": [
    "casen_2017_df = pd.merge(\n",
    "    casen_2017_df,\n",
    "    comunas_servicios_df[[\"capitulo\", \"nombre_capitulo\", \"comuna_id\"]],  # type: ignore\n",
    "    left_on=\"comuna\",\n",
    "    right_on=\"comuna_id\",\n",
    "    how=\"left\",\n",
    ")\n",
    "casen_2017_df.drop(columns=[\"comuna_id\"], inplace=True)"
   ]
  },
  {
   "cell_type": "code",
   "execution_count": null,
   "metadata": {},
   "outputs": [],
   "source": [
    "casen_2017_df"
   ]
  },
  {
   "cell_type": "code",
   "execution_count": null,
   "metadata": {},
   "outputs": [],
   "source": [
    "casen_2017_df.query(\"capitulo == 20\")[\"s18a\"].value_counts(dropna=False)"
   ]
  },
  {
   "cell_type": "code",
   "execution_count": null,
   "metadata": {},
   "outputs": [],
   "source": [
    "print(len(casen_2017_df))"
   ]
  },
  {
   "cell_type": "code",
   "execution_count": null,
   "metadata": {},
   "outputs": [],
   "source": [
    "def calculate_problem_metrics(s, question, problem):\n",
    "    total_respuestas = s[s[question].notna()][FACTOR_EXPANSION_REGIONAL].sum()\n",
    "    total_si = s[s[question] == SI][FACTOR_EXPANSION_REGIONAL].sum()\n",
    "    total_no = s[s[question] == NO][FACTOR_EXPANSION_REGIONAL].sum()\n",
    "    total_nsnr = s[s[question].isin([NS, NR])][FACTOR_EXPANSION_REGIONAL].sum()\n",
    "\n",
    "    return {\n",
    "        f\"{problem}_respuestas\": total_respuestas,\n",
    "        f\"{problem}_si\": total_si,\n",
    "        f\"{problem}_no\": total_no,\n",
    "        f\"{problem}_nsnr\": total_nsnr,\n",
    "        f\"{problem}_si_porcentaje\": (\n",
    "            total_si / total_respuestas * 100 if total_respuestas else 0\n",
    "        ),\n",
    "        f\"{problem}_no_porcentaje\": (\n",
    "            total_no / total_respuestas * 100 if total_respuestas else 0\n",
    "        ),\n",
    "        f\"{problem}_nsnr_porcentaje\": (\n",
    "            total_nsnr / total_respuestas * 100 if total_respuestas else 0\n",
    "        ),\n",
    "    }\n",
    "\n",
    "\n",
    "def calculate_servicio_metrics(s):\n",
    "    total_fonasa = s[FACTOR_EXPANSION_REGIONAL].sum()\n",
    "    problemas_llegar = calculate_problem_metrics(\n",
    "        s, PROBLEMAS_LLEGAR_CONSULTA, \"problemas_llegar_consulta\"\n",
    "    )\n",
    "    problemas_conseguir_cita = calculate_problem_metrics(\n",
    "        s, PROBLEMAS_CONSEGUIR_CITA, \"problemas_conseguir_cita\"\n",
    "    )\n",
    "    problemas_ser_atendido = calculate_problem_metrics(\n",
    "        s, PROBLEMAS_SER_ATENDIDO, \"problemas_ser_atendido\"\n",
    "    )\n",
    "    problemas_pagar_por_costo = calculate_problem_metrics(\n",
    "        s, PROBLEMAS_PAGAR_POR_COSTO, \"problemas_pagar_por_costo\"\n",
    "    )\n",
    "    problemas_entrega_medicamentos = calculate_problem_metrics(\n",
    "        s, PROBLEMAS_ENTREGA_MEDICAMENTOS, \"problemas_entrega_medicamentos\"\n",
    "    )\n",
    "\n",
    "    return pd.Series(\n",
    "        {\n",
    "            \"total_fonasa\": total_fonasa,\n",
    "            **problemas_llegar,\n",
    "            **problemas_conseguir_cita,\n",
    "            **problemas_ser_atendido,\n",
    "            **problemas_pagar_por_costo,\n",
    "            **problemas_entrega_medicamentos,\n",
    "        }\n",
    "    )\n",
    "\n",
    "\n",
    "casen_2017_grouped_servicio_df = (\n",
    "    casen_2017_df.groupby([\"capitulo\", \"nombre_capitulo\"])\n",
    "    .apply(calculate_servicio_metrics)\n",
    "    .reset_index()\n",
    ")\n",
    "\n",
    "casen_2017_grouped_servicio_df.info()"
   ]
  },
  {
   "cell_type": "code",
   "execution_count": null,
   "metadata": {},
   "outputs": [],
   "source": [
    "casen_2017_grouped_servicio_df.head()"
   ]
  },
  {
   "cell_type": "code",
   "execution_count": null,
   "metadata": {},
   "outputs": [],
   "source": [
    "print(casen_2017_grouped_servicio_df[\"total_fonasa\"].sum())\n",
    "print(casen_2017_grouped_servicio_df[\"problemas_llegar_consulta_si\"].sum())"
   ]
  },
  {
   "cell_type": "markdown",
   "metadata": {},
   "source": [
    "## CASEN 2022\n"
   ]
  },
  {
   "cell_type": "code",
   "execution_count": null,
   "metadata": {},
   "outputs": [],
   "source": [
    "import pandas as pd\n",
    "\n",
    "FONASA = 1\n",
    "PREGUNTA_PREVISION = \"s13\"\n",
    "\n",
    "casen_2022_df = pd.read_stata(\n",
    "    \"../../datasets/casen/casen_2022.dta\",\n",
    "    convert_categoricals=False,\n",
    ")"
   ]
  },
  {
   "cell_type": "code",
   "execution_count": null,
   "metadata": {},
   "outputs": [],
   "source": [
    "provincia_comuna_df = pd.read_stata(\n",
    "    \"../../datasets/casen/provincia_comuna_casen_2022.dta\"\n",
    ")\n",
    "# provincia_comuna_df[\"folio\"].value_counts()\n",
    "provincia_comuna_df.head()"
   ]
  },
  {
   "cell_type": "code",
   "execution_count": null,
   "metadata": {},
   "outputs": [],
   "source": [
    "casen_2022_df = pd.merge(\n",
    "    casen_2022_df, provincia_comuna_df[[\"folio\", \"comuna\"]], on=\"folio\"\n",
    ")\n",
    "casen_2022_df"
   ]
  },
  {
   "cell_type": "code",
   "execution_count": null,
   "metadata": {},
   "outputs": [],
   "source": [
    "casen_2022_df[\"folio\"].value_counts()"
   ]
  },
  {
   "cell_type": "code",
   "execution_count": null,
   "metadata": {},
   "outputs": [],
   "source": [
    "print(len(casen_2022_df))\n",
    "casen_2022_df.head()"
   ]
  },
  {
   "cell_type": "code",
   "execution_count": null,
   "metadata": {},
   "outputs": [],
   "source": [
    "casen_2022_df[\"region\"].unique()"
   ]
  },
  {
   "cell_type": "code",
   "execution_count": null,
   "metadata": {},
   "outputs": [],
   "source": [
    "casen_2022_df[\"comuna\"]"
   ]
  },
  {
   "cell_type": "code",
   "execution_count": null,
   "metadata": {},
   "outputs": [],
   "source": [
    "print(PREGUNTA_PREVISION)\n",
    "casen_2022_df = casen_2022_df[casen_2022_df[PREGUNTA_PREVISION] == FONASA]"
   ]
  },
  {
   "cell_type": "code",
   "execution_count": null,
   "metadata": {},
   "outputs": [],
   "source": [
    "casen_2022_df[\"comuna\"].value_counts()"
   ]
  },
  {
   "cell_type": "code",
   "execution_count": null,
   "metadata": {},
   "outputs": [],
   "source": [
    "comunas_servicios_df"
   ]
  },
  {
   "cell_type": "code",
   "execution_count": null,
   "metadata": {},
   "outputs": [],
   "source": [
    "casen_2022_df = pd.merge(\n",
    "    casen_2022_df,\n",
    "    comunas_servicios_df,  # type: ignore\n",
    "    on=\"comuna\",\n",
    ")\n",
    "\n",
    "casen_2022_df.drop(columns=[\"comuna_id\"], inplace=True)"
   ]
  },
  {
   "cell_type": "code",
   "execution_count": null,
   "metadata": {},
   "outputs": [],
   "source": [
    "casen_2022_df"
   ]
  },
  {
   "cell_type": "code",
   "execution_count": null,
   "metadata": {},
   "outputs": [],
   "source": [
    "casen_2022_df[FACTOR_EXPANSION_REGIONAL].sum()"
   ]
  },
  {
   "cell_type": "code",
   "execution_count": null,
   "metadata": {},
   "outputs": [],
   "source": [
    "NS = -88\n",
    "NR = -99\n",
    "PROBLEMAS_LLEGAR_CONSULTA = \"s19a\"\n",
    "PROBLEMAS_CONSEGUIR_CITA = \"s19b\"\n",
    "PROBLEMAS_SER_ATENDIDO = \"s19c\"\n",
    "PROBLEMAS_PAGAR_POR_COSTO = \"s19d\"\n",
    "PROBLEMAS_ENTREGA_MEDICAMENTOS = \"s19e\"\n",
    "\n",
    "casen_2022_grouped_servicio_df = (\n",
    "    casen_2022_df.groupby([\"capitulo\", \"nombre_capitulo\"])\n",
    "    .apply(calculate_servicio_metrics)\n",
    "    .reset_index()\n",
    ")\n",
    "\n",
    "casen_2022_grouped_servicio_df"
   ]
  },
  {
   "cell_type": "code",
   "execution_count": null,
   "metadata": {},
   "outputs": [],
   "source": [
    "print(casen_2022_grouped_servicio_df[\"total_fonasa\"].sum())\n",
    "print(casen_2022_grouped_servicio_df[\"problemas_llegar_consulta_si\"].sum())"
   ]
  },
  {
   "cell_type": "markdown",
   "metadata": {},
   "source": [
    "## Exportar CSV\n"
   ]
  },
  {
   "cell_type": "code",
   "execution_count": null,
   "metadata": {},
   "outputs": [],
   "source": [
    "casen_2017_grouped_servicio_df[\"año\"] = 2017\n",
    "casen_2022_grouped_servicio_df[\"año\"] = 2022\n",
    "\n",
    "casen_2017_2022_grouped_servicio_df = pd.concat(\n",
    "    [casen_2017_grouped_servicio_df, casen_2022_grouped_servicio_df],\n",
    "    axis=0,\n",
    "    ignore_index=True,\n",
    ")\n",
    "\n",
    "columnas_ordenadas = [\"año\"] + [\n",
    "    col for col in casen_2017_2022_grouped_servicio_df.columns if col != \"año\"\n",
    "]\n",
    "casen_2017_2022_grouped_servicio_df = casen_2017_2022_grouped_servicio_df[\n",
    "    columnas_ordenadas\n",
    "]\n",
    "\n",
    "casen_2017_2022_grouped_servicio_df.to_csv(\n",
    "    \"../../datasets/casen/casen_2017_2022_fonasa.csv\", index=False\n",
    ")"
   ]
  }
 ],
 "metadata": {
  "kernelspec": {
   "display_name": "env",
   "language": "python",
   "name": "python3"
  },
  "language_info": {
   "codemirror_mode": {
    "name": "ipython",
    "version": 3
   },
   "file_extension": ".py",
   "mimetype": "text/x-python",
   "name": "python",
   "nbconvert_exporter": "python",
   "pygments_lexer": "ipython3",
   "version": "3.12.2"
  }
 },
 "nbformat": 4,
 "nbformat_minor": 2
}
