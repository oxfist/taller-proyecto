{
 "cells": [
  {
   "cell_type": "code",
   "execution_count": null,
   "metadata": {},
   "outputs": [],
   "source": [
    "%pip install pandas seaborn matplotlib"
   ]
  },
  {
   "cell_type": "code",
   "execution_count": null,
   "metadata": {},
   "outputs": [],
   "source": [
    "import pandas as pd\n",
    "\n",
    "JOIN_KEYS = [\"año\", \"capitulo\", \"nombre_capitulo\"]\n",
    "\n",
    "presupuesto_df = (\n",
    "    pd.read_csv(\"../datasets/pagos_salud_chile_2018-2024.csv\", delimiter=\",\")\n",
    "    .rename(columns={\"devengo\": \"total\"})\n",
    "    .groupby([\"año\", \"capitulo\", \"nombre_capitulo\", \"subtitulo\", \"nombre_subtitulo\"])[\n",
    "        [\"total\"]\n",
    "    ]\n",
    "    .agg(\"sum\")\n",
    "    .reset_index()\n",
    ")\n",
    "\n",
    "subtitulo_columns = (\n",
    "    presupuesto_df[[\"subtitulo\", \"nombre_subtitulo\"]]\n",
    "    .sort_values(by=\"subtitulo\")\n",
    "    .drop_duplicates()[\"nombre_subtitulo\"]\n",
    "    .to_list()\n",
    ")\n",
    "\n",
    "presupuesto_df = (\n",
    "    presupuesto_df.pivot_table(\n",
    "        index=[\"año\", \"capitulo\", \"nombre_capitulo\"],\n",
    "        columns=[\"nombre_subtitulo\"],\n",
    "        values=[\"total\"],\n",
    "    )\n",
    "    .fillna(0)\n",
    "    .reset_index()\n",
    ")\n",
    "\n",
    "presupuesto_df = pd.concat(\n",
    "    [\n",
    "        presupuesto_df[[\"año\", \"capitulo\", \"nombre_capitulo\"]],\n",
    "        presupuesto_df[\"total\"][subtitulo_columns],\n",
    "    ],\n",
    "    axis=1,\n",
    ")\n",
    "presupuesto_df.columns = [\n",
    "    \"año\",\n",
    "    \"capitulo\",\n",
    "    \"nombre_capitulo\",\n",
    "] + presupuesto_df.columns[3:].to_list()\n",
    "presupuesto_df.columns = presupuesto_df.columns.str.lower().str.replace(\" \", \"_\")\n",
    "presupuesto_df"
   ]
  },
  {
   "cell_type": "code",
   "execution_count": null,
   "metadata": {},
   "outputs": [],
   "source": [
    "intento_ideacion_df = pd.read_csv(\"../datasets/ideacion_intento.csv\", delimiter=\",\")\n",
    "urgencia_autolesiones_df = pd.read_csv(\n",
    "    \"../datasets/urgencia_lesiones_autoinflingidas.csv\", delimiter=\",\"\n",
    ")\n",
    "\n",
    "joined_df = pd.merge(presupuesto_df, intento_ideacion_df, on=JOIN_KEYS, how=\"outer\")\n",
    "joined_df = pd.merge(joined_df, urgencia_autolesiones_df, on=JOIN_KEYS, how=\"outer\")\n",
    "joined_df"
   ]
  },
  {
   "cell_type": "code",
   "execution_count": null,
   "metadata": {},
   "outputs": [],
   "source": [
    "joined_df = joined_df.query(\"año >= 2018 and año <= 2023\")\n",
    "joined_df"
   ]
  }
 ],
 "metadata": {
  "kernelspec": {
   "display_name": "Python 3",
   "language": "python",
   "name": "python3"
  },
  "language_info": {
   "codemirror_mode": {
    "name": "ipython",
    "version": 3
   },
   "file_extension": ".py",
   "mimetype": "text/x-python",
   "name": "python",
   "nbconvert_exporter": "python",
   "pygments_lexer": "ipython3",
   "version": "3.12.2"
  }
 },
 "nbformat": 4,
 "nbformat_minor": 2
}
