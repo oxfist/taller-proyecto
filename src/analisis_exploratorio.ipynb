{
 "cells": [
  {
   "cell_type": "code",
   "execution_count": null,
   "metadata": {},
   "outputs": [],
   "source": [
    "%pip install pandas seaborn matplotlib"
   ]
  },
  {
   "cell_type": "code",
   "execution_count": null,
   "metadata": {},
   "outputs": [],
   "source": [
    "import pandas as pd\n",
    "\n",
    "JOIN_KEYS = [\"año\", \"capitulo\", \"nombre_capitulo\"]\n",
    "\n",
    "presupuesto_df = (\n",
    "    pd.read_csv(\"../datasets/pagos_salud_chile_2018-2024.csv\", delimiter=\",\")\n",
    "    .rename(columns={\"devengo\": \"total\"})\n",
    "    .groupby([\"año\", \"capitulo\", \"nombre_capitulo\", \"subtitulo\", \"nombre_subtitulo\"])[\n",
    "        [\"total\"]\n",
    "    ]\n",
    "    .agg(\"sum\")\n",
    "    .reset_index()\n",
    ")\n",
    "\n",
    "subtitulo_columns = (\n",
    "    presupuesto_df[[\"subtitulo\", \"nombre_subtitulo\"]]\n",
    "    .sort_values(by=\"subtitulo\")\n",
    "    .drop_duplicates()[\"nombre_subtitulo\"]\n",
    "    .to_list()\n",
    ")\n",
    "\n",
    "presupuesto_df = (\n",
    "    presupuesto_df.pivot_table(\n",
    "        index=[\"año\", \"capitulo\", \"nombre_capitulo\"],\n",
    "        columns=[\"nombre_subtitulo\"],\n",
    "        values=[\"total\"],\n",
    "    )\n",
    "    .fillna(0)\n",
    "    .reset_index()\n",
    ")\n",
    "\n",
    "presupuesto_df = pd.concat(\n",
    "    [\n",
    "        presupuesto_df[[\"año\", \"capitulo\", \"nombre_capitulo\"]],\n",
    "        presupuesto_df[\"total\"][subtitulo_columns],\n",
    "    ],\n",
    "    axis=1,\n",
    ")\n",
    "presupuesto_df.columns = [\n",
    "    \"año\",\n",
    "    \"capitulo\",\n",
    "    \"nombre_capitulo\",\n",
    "] + presupuesto_df.columns[3:].to_list()\n",
    "presupuesto_df.columns = presupuesto_df.columns.str.lower().str.replace(\" \", \"_\")\n",
    "presupuesto_df[\"total_gasto\"] = presupuesto_df.iloc[:, 3:].sum(axis=1)\n",
    "\n",
    "presupuesto_df"
   ]
  },
  {
   "cell_type": "code",
   "execution_count": null,
   "metadata": {},
   "outputs": [],
   "source": [
    "YEARS = range(2018, 2024)\n",
    "\n",
    "intento_ideacion_df = pd.read_csv(\"../datasets/ideacion_intento.csv\", delimiter=\",\")\n",
    "urgencia_autolesiones_df = pd.read_csv(\n",
    "    \"../datasets/urgencia_lesiones_autoinflingidas.csv\", delimiter=\",\"\n",
    ")\n",
    "casen_df = pd.read_csv(\"../datasets/casen.csv\", delimiter=\",\")\n",
    "egresos_df = pd.read_csv(\"../datasets/egresos_hospitalarios.csv\", delimiter=\",\")\n",
    "\n",
    "joined_df = pd.merge(presupuesto_df, intento_ideacion_df, on=JOIN_KEYS, how=\"outer\")\n",
    "joined_df = pd.merge(joined_df, urgencia_autolesiones_df, on=JOIN_KEYS, how=\"outer\")\n",
    "joined_df = pd.merge(joined_df, casen_df, on=JOIN_KEYS, how=\"outer\")\n",
    "joined_df = pd.merge(joined_df, egresos_df, on=JOIN_KEYS, how=\"outer\")\n",
    "joined_df = joined_df.query(\"año >= 2018 and año <= 2023\").reset_index(drop=True)\n",
    "joined_df"
   ]
  },
  {
   "cell_type": "code",
   "execution_count": null,
   "metadata": {},
   "outputs": [],
   "source": [
    "joined_df.info()"
   ]
  },
  {
   "cell_type": "code",
   "execution_count": null,
   "metadata": {},
   "outputs": [],
   "source": [
    "# joined_df.filter(like=\"hospitalizaciones\").columns.to_list()"
   ]
  },
  {
   "cell_type": "code",
   "execution_count": null,
   "metadata": {},
   "outputs": [],
   "source": [
    "# joined_df.filter(like=\"hospitalizacion_total\").columns.to_list()"
   ]
  },
  {
   "cell_type": "code",
   "execution_count": null,
   "metadata": {},
   "outputs": [],
   "source": [
    "joined_df[\n",
    "    [\"año\", \"capitulo\", \"nombre_capitulo\"]\n",
    "    + joined_df.filter(like=\"promedio\").columns.to_list()\n",
    "]"
   ]
  },
  {
   "cell_type": "code",
   "execution_count": null,
   "metadata": {},
   "outputs": [],
   "source": [
    "for year in YEARS:\n",
    "    print(\n",
    "        year,\n",
    "        pd.cut(\n",
    "            joined_df[joined_df[\"año\"] == year][\"suicidio_ideacion\"], 8\n",
    "        ).value_counts(),\n",
    "        \"\\n\",\n",
    "    )"
   ]
  },
  {
   "cell_type": "code",
   "execution_count": null,
   "metadata": {},
   "outputs": [],
   "source": [
    "for year in YEARS:\n",
    "    print(\n",
    "        year,\n",
    "        pd.cut(\n",
    "            joined_df[joined_df[\"año\"] == year][\"suicidio_intento\"], 8\n",
    "        ).value_counts(),\n",
    "        \"\\n\",\n",
    "    )"
   ]
  },
  {
   "cell_type": "code",
   "execution_count": null,
   "metadata": {},
   "outputs": [],
   "source": [
    "for year in YEARS:\n",
    "    print(\n",
    "        year,\n",
    "        pd.cut(\n",
    "            joined_df[joined_df[\"año\"] == year][\"urgencias_lesiones_autoinflingidas\"], 8\n",
    "        ).value_counts(),\n",
    "        \"\\n\",\n",
    "    )"
   ]
  },
  {
   "cell_type": "code",
   "execution_count": null,
   "metadata": {},
   "outputs": [],
   "source": [
    "for year in YEARS:\n",
    "    print(\n",
    "        year,\n",
    "        pd.cut(\n",
    "            joined_df[joined_df[\"año\"] == year][\"suicidio_intento\"], 8\n",
    "        ).value_counts(),\n",
    "        \"\\n\",\n",
    "    )"
   ]
  },
  {
   "cell_type": "code",
   "execution_count": null,
   "metadata": {},
   "outputs": [],
   "source": [
    "joined_df.query(\"año == 2023\")[\"urgencias_lesiones_autoinflingidas\"].plot.hist(\n",
    "    title=\"Urgencias por Lesiones Autoinflingidas - Año 2023\", figsize=(6, 6)\n",
    ")"
   ]
  },
  {
   "cell_type": "code",
   "execution_count": null,
   "metadata": {},
   "outputs": [],
   "source": [
    "joined_df.query(\"año == 2018\")[\"nombre_capitulo\"].value_counts()"
   ]
  },
  {
   "cell_type": "code",
   "execution_count": null,
   "metadata": {},
   "outputs": [],
   "source": [
    "# import numpy as np\n",
    "\n",
    "# np.array_split(joined_df.filter(like=\"promedio\").columns.to_list(), 5)[0].tolist()"
   ]
  },
  {
   "cell_type": "code",
   "execution_count": null,
   "metadata": {},
   "outputs": [],
   "source": [
    "def get_top_k_columns_with_less_zeroes(k, pattern, df):\n",
    "    promedio_variables = df.filter(like=pattern).columns.to_list()\n",
    "\n",
    "    zero_counts = df[promedio_variables].apply(lambda col: (col == 0).sum())\n",
    "    top_k = zero_counts.sort_values(ascending=True).index[:k]\n",
    "    return top_k.to_list()\n",
    "\n",
    "\n",
    "get_top_k_columns_with_less_zeroes(10, \"promedio\", joined_df)"
   ]
  },
  {
   "cell_type": "code",
   "execution_count": null,
   "metadata": {},
   "outputs": [],
   "source": [
    "get_top_k_columns_with_less_zeroes(10, \"promedio\", joined_df)"
   ]
  },
  {
   "cell_type": "code",
   "execution_count": null,
   "metadata": {},
   "outputs": [],
   "source": [
    "joined_df[\n",
    "    \"top_5_dias_hospitalizacion_promedio_esquizofrenia_trastornos_esquizotípicos_y_trastornos_delirantes\"\n",
    "].hist()"
   ]
  },
  {
   "cell_type": "code",
   "execution_count": null,
   "metadata": {},
   "outputs": [],
   "source": [
    "import seaborn as sns\n",
    "\n",
    "top_k_columns_with_less_zeroes = get_top_k_columns_with_less_zeroes(\n",
    "    10, \"hospitalizaciones\", joined_df\n",
    ")\n",
    "\n",
    "ANALYSIS_VARIABLES = [\n",
    "    \"gastos_en_personal\",\n",
    "    \"bienes_y_servicios_de_consumo\",\n",
    "    \"prestaciones_de_seguridad_social\",\n",
    "    \"transferencias_corrientes\",\n",
    "    \"otros_gastos_corrientes\",\n",
    "    \"adquisicion_de_activos_no_financieros\",\n",
    "    \"iniciativas_de_inversion\",\n",
    "    \"total_gasto\",\n",
    "    \"suicidio_ideacion\",\n",
    "    \"suicidio_intento\",\n",
    "    \"urgencias_lesiones_autoinflingidas\",\n",
    "    \"total_fonasa\",\n",
    "    \"problemas_llegar_consulta_si\",\n",
    "    \"problemas_conseguir_cita_si\",\n",
    "    \"problemas_ser_atendido_si\",\n",
    "    \"problemas_pagar_por_costo_si\",\n",
    "    *top_k_columns_with_less_zeroes,\n",
    "]\n",
    "\n",
    "for year in YEARS:\n",
    "    plot = sns.pairplot(\n",
    "        joined_df[joined_df[\"año\"] == year],\n",
    "        x_vars=ANALYSIS_VARIABLES,\n",
    "        y_vars=ANALYSIS_VARIABLES,\n",
    "    )\n",
    "\n",
    "    for ax in plot.axes.flatten():\n",
    "        ax.set_xlabel(ax.get_xlabel(), rotation=45)\n",
    "        ax.set_ylabel(ax.get_ylabel(), rotation=45)\n",
    "        ax.yaxis.get_label().set_horizontalalignment(\"right\")\n",
    "\n",
    "    plot.figure.suptitle(f\"AÑO {year}\", y=1.01, fontsize=16)"
   ]
  },
  {
   "cell_type": "code",
   "execution_count": null,
   "metadata": {},
   "outputs": [],
   "source": [
    "import seaborn as sns\n",
    "\n",
    "top_k_columns_with_less_zeroes = get_top_k_columns_with_less_zeroes(\n",
    "    10, \"promedio\", joined_df\n",
    ")\n",
    "\n",
    "ANALYSIS_VARIABLES = [\n",
    "    \"gastos_en_personal\",\n",
    "    \"bienes_y_servicios_de_consumo\",\n",
    "    \"prestaciones_de_seguridad_social\",\n",
    "    \"transferencias_corrientes\",\n",
    "    \"otros_gastos_corrientes\",\n",
    "    \"adquisicion_de_activos_no_financieros\",\n",
    "    \"iniciativas_de_inversion\",\n",
    "    \"total_gasto\",\n",
    "    \"suicidio_ideacion\",\n",
    "    \"suicidio_intento\",\n",
    "    \"urgencias_lesiones_autoinflingidas\",\n",
    "    \"total_fonasa\",\n",
    "    \"problemas_llegar_consulta_si\",\n",
    "    \"problemas_conseguir_cita_si\",\n",
    "    \"problemas_ser_atendido_si\",\n",
    "    \"problemas_pagar_por_costo_si\",\n",
    "    *top_k_columns_with_less_zeroes,\n",
    "]\n",
    "\n",
    "for year in YEARS:\n",
    "    plot = sns.pairplot(\n",
    "        joined_df[joined_df[\"año\"] == year],\n",
    "        x_vars=ANALYSIS_VARIABLES,\n",
    "        y_vars=ANALYSIS_VARIABLES,\n",
    "    )\n",
    "\n",
    "    for ax in plot.axes.flatten():\n",
    "        ax.set_xlabel(ax.get_xlabel(), rotation=45)\n",
    "        ax.set_ylabel(ax.get_ylabel(), rotation=45)\n",
    "        ax.yaxis.get_label().set_horizontalalignment(\"right\")\n",
    "\n",
    "    plot.figure.suptitle(f\"AÑO {year}\", y=1.01, fontsize=16)"
   ]
  },
  {
   "cell_type": "code",
   "execution_count": null,
   "metadata": {},
   "outputs": [],
   "source": [
    "top_k_columns_with_less_zeroes = get_top_k_columns_with_less_zeroes(\n",
    "    10, \"hospitalizacion_total\", joined_df\n",
    ")\n",
    "\n",
    "ANALYSIS_VARIABLES = [\n",
    "    \"gastos_en_personal\",\n",
    "    \"bienes_y_servicios_de_consumo\",\n",
    "    \"prestaciones_de_seguridad_social\",\n",
    "    \"transferencias_corrientes\",\n",
    "    \"otros_gastos_corrientes\",\n",
    "    \"adquisicion_de_activos_no_financieros\",\n",
    "    \"iniciativas_de_inversion\",\n",
    "    \"total_gasto\",\n",
    "    \"suicidio_ideacion\",\n",
    "    \"suicidio_intento\",\n",
    "    \"urgencias_lesiones_autoinflingidas\",\n",
    "    \"total_fonasa\",\n",
    "    \"problemas_llegar_consulta_si\",\n",
    "    \"problemas_conseguir_cita_si\",\n",
    "    \"problemas_ser_atendido_si\",\n",
    "    \"problemas_pagar_por_costo_si\",\n",
    "    *top_k_columns_with_less_zeroes,\n",
    "]\n",
    "\n",
    "for year in YEARS:\n",
    "    plot = sns.pairplot(\n",
    "        joined_df[joined_df[\"año\"] == year],\n",
    "        x_vars=ANALYSIS_VARIABLES,\n",
    "        y_vars=ANALYSIS_VARIABLES,\n",
    "    )\n",
    "\n",
    "    for ax in plot.axes.flatten():\n",
    "        ax.set_xlabel(ax.get_xlabel(), rotation=45)\n",
    "        ax.set_ylabel(ax.get_ylabel(), rotation=45)\n",
    "        ax.yaxis.get_label().set_horizontalalignment(\"right\")\n",
    "\n",
    "    plot.figure.suptitle(f\"AÑO {year}\", y=1.01, fontsize=16)"
   ]
  }
 ],
 "metadata": {
  "kernelspec": {
   "display_name": "Python 3",
   "language": "python",
   "name": "python3"
  },
  "language_info": {
   "codemirror_mode": {
    "name": "ipython",
    "version": 3
   },
   "file_extension": ".py",
   "mimetype": "text/x-python",
   "name": "python",
   "nbconvert_exporter": "python",
   "pygments_lexer": "ipython3",
   "version": "3.12.2"
  }
 },
 "nbformat": 4,
 "nbformat_minor": 2
}
